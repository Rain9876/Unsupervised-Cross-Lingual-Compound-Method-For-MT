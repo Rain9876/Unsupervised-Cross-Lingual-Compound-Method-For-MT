{
 "cells": [
  {
   "cell_type": "code",
   "execution_count": 3,
   "metadata": {},
   "outputs": [],
   "source": [
    "# -*- coding: utf-8 -*-\n",
    "\n",
    "import json\n",
    "import pickle\n",
    "import os\n",
    "import sys\n",
    "import nltk\n",
    "from nltk import meteor_score\n",
    "# from nltk.tokenize import word_tokenize \n",
    "# from nltk.corpus import stopwords\n",
    "# from nltk.stem.snowball import SnowballStemmer\n",
    "from nltk.translate import meteor_score\n",
    "from collections import defaultdict\n",
    "\n",
    "from itertools import product\n",
    "import scipy\n",
    "from scipy import stats\n",
    "from scipy.spatial.distance import euclidean\n",
    "import pulp\n",
    "\n",
    "import numpy as np\n",
    "from torch.autograd import Variable\n",
    "import torch.nn.functional as F\n",
    "import torch\n",
    "import re\n",
    "\n",
    "import matplotlib.pyplot as plt\n",
    "%matplotlib inline"
   ]
  },
  {
   "cell_type": "markdown",
   "metadata": {},
   "source": [
    "# Data Exploration"
   ]
  },
  {
   "cell_type": "code",
   "execution_count": 4,
   "metadata": {},
   "outputs": [],
   "source": [
    "#read all json data\n",
    "data_path = sys.path[0]+\"/human_assessment/\"\n",
    "\n",
    "with open(data_path+'MMTsourcedict.json') as json_file:\n",
    "    src_dict = json.load(json_file)\n",
    "with open(data_path+'MMTgolddict_de.json') as json_file:\n",
    "    ref_de_dict = json.load(json_file)\n",
    "with open(data_path+'MMTtranslationdict_de.json') as json_file:\n",
    "    mt_de_dict = json.load(json_file)\n",
    "with open(data_path+'MMTgolddict_fr.json') as json_file:\n",
    "    ref_fr_dict = json.load(json_file)\n",
    "with open(data_path+'MMTtranslationdict_fr.json') as json_file:\n",
    "    mt_fr_dict = json.load(json_file)"
   ]
  },
  {
   "cell_type": "code",
   "execution_count": 5,
   "metadata": {},
   "outputs": [
    {
     "name": "stdout",
     "output_type": "stream",
     "text": [
      "une photo aérienne d'un paysage d'herbe brunissante avec une sorte de château culminant , et un paysage montagneux à l'horizon .\n",
      "\n",
      "une photo aérienne de seniors et d'une belle structure ressemblant à travers un paysage de montagne dans l'horizon.\n",
      "\n",
      "un paysage de signalisation, regarde de la prairie et une structure ressemblant à une structure à l'intérieur et un paysage de montagne à l'horizon.\n",
      "\n",
      "une photo de paysage aérienne d'une prairie et d'une structure ressemblant à une structure en hauteur et un paysage de montagne à l'horizon.\n",
      "\n",
      "une photo de pêcheurs aérienne de paille et d'une structure brumeuse regarde au loin et un paysage de montagne à l'horizon.\n",
      "\n"
     ]
    }
   ],
   "source": [
    "def clean_up_french(ref_fr_dict, mt_fr_dict):\n",
    "    tmp = ref_fr_dict.items()\n",
    "    for key, value in tmp:\n",
    "        new_val = re.sub(r\"&\\w+;\\s\",\"'\",value)\n",
    "        ref_fr_dict[key] = new_val\n",
    "\n",
    "    tmp = mt_fr_dict.items()\n",
    "    for key, value in tmp:\n",
    "            new_val = [[re.sub(r\"&\\w+;\\s\",\"'\",item[0]),item[1]]for item in value]\n",
    "            mt_fr_dict[key] = new_val\n",
    "    return ref_fr_dict, mt_fr_dict\n",
    "    \n",
    "ref_fr_dict, mt_fr_dict = clean_up_french(ref_fr_dict, mt_fr_dict)\n",
    "    \n",
    "\n",
    "# print(ref_fr_dict[\"30167206992.jpg\"])\n",
    "# print(mt_fr_dict[\"30167206992.jpg\"])\n",
    "\n",
    "print(ref_fr_dict[\"27124904596.jpg\"])\n",
    "print()\n",
    "for i in mt_fr_dict[\"27124904596.jpg\"]:\n",
    "    print(i[0]+\"\\n\")"
   ]
  },
  {
   "cell_type": "code",
   "execution_count": 6,
   "metadata": {},
   "outputs": [
    {
     "name": "stdout",
     "output_type": "stream",
     "text": [
      "1000\n",
      "1000\n"
     ]
    }
   ],
   "source": [
    "# matching image id for src sent, ref sent, translation sent\n",
    "\n",
    "## Sorting if necessary\n",
    "# sorted_src_dict = {key: value for key, value in sorted(src_dict.items(), key=lambda item: item[0])}\n",
    "# ref_de_dict = {key: value for key, value in sorted(ref_de_dict.items(), key=lambda item: item[0])}\n",
    "# score_de_dict = {key: value for key, value in sorted(score_de_dict.items(), key=lambda item: item[0])}\n",
    "\n",
    "de_match = {}\n",
    "assert len(src_dict) == len(ref_de_dict)\n",
    "for src_id in src_dict:\n",
    "    if src_id in mt_de_dict and src_id in ref_de_dict:\n",
    "         de_match[src_id] = [src_dict[src_id], ref_de_dict[src_id], mt_de_dict[src_id]]\n",
    "    else:\n",
    "        de_match[src_id] = [src_dict[src_id], ref_de_dict[src_id], []] # Assign empty list for Non-score sentences\n",
    "print(len(de_match))\n",
    "\n",
    "\n",
    "fr_match = {}\n",
    "assert len(src_dict) == len(ref_fr_dict)\n",
    "for src_id in src_dict:\n",
    "    if src_id in mt_fr_dict and src_id in ref_fr_dict:\n",
    "         fr_match[src_id] = [src_dict[src_id], ref_fr_dict[src_id], mt_fr_dict[src_id]]\n",
    "    else:\n",
    "        fr_match[src_id] = [src_dict[src_id], ref_fr_dict[src_id], []]\n",
    "print(len(fr_match))"
   ]
  },
  {
   "cell_type": "code",
   "execution_count": 7,
   "metadata": {},
   "outputs": [],
   "source": [
    "#extract all sentence data from dictionaries\n",
    "\n",
    "#1. source sentences in English\n",
    "src_sent = [item[0] for item in de_match.values()]\n",
    "\n",
    "#2. reference German sentences\n",
    "ref_de_sent = [item[1] for item in de_match.values()]\n",
    "\n",
    "#3. reference french sentences\n",
    "ref_fr_sent = [item[1] for item in fr_match.values()]\n",
    "\n",
    "#4. translation score on German sentences\n",
    "mt_de = [item[2] for item in de_match.values()]\n",
    "        \n",
    "#5. translation score on French sentences\n",
    "mt_fr = [item[2] for item in fr_match.values()]\n"
   ]
  },
  {
   "cell_type": "code",
   "execution_count": 8,
   "metadata": {},
   "outputs": [],
   "source": [
    "# Assert fr, de source order are the same\n",
    "assert list(fr_match.keys()) == list(de_match.keys())"
   ]
  },
  {
   "cell_type": "code",
   "execution_count": 9,
   "metadata": {},
   "outputs": [],
   "source": [
    "#sentence preprocessing on source sentences\n",
    "# {img_id: [preprocessed tokens ... ]}\n",
    "\n",
    "def data_processing(src_sents, tokenizer, stop_words=None, MT=False):    \n",
    "    token_sents = []\n",
    "    \n",
    "    for i in range(len(src_sents)): \n",
    "        if MT: \n",
    "            sent = src_sents[i][0]\n",
    "        else:\n",
    "            sent = src_sents[i]\n",
    "            \n",
    "#         sent = sent.lower() \n",
    "        word_list = tokenizer.tokenize(sent) # Tokenizer\n",
    "#       word_list = [w for w in word_list if not w in stop_words] # stop words removal\n",
    "#         word_list = [w for w in word_list if w.isalnum()] # punct_filtered\n",
    "\n",
    "        #stemming\n",
    "        # stemmer = SnowballStemmer('english')\n",
    "        # sentence_stemmed = []\n",
    "        # for token in punct_filtered:\n",
    "        #     sentence_stemmed.append(stemmer.stem(token))\n",
    "        \n",
    "        if MT: \n",
    "            token_sents.append([word_list, src_sents[i][1]])\n",
    "        else:    \n",
    "            token_sents.append(word_list)\n",
    " \n",
    "    return token_sents"
   ]
  },
  {
   "cell_type": "code",
   "execution_count": 10,
   "metadata": {},
   "outputs": [],
   "source": [
    "# stop_words = stopwords.words('english')\n",
    "from transformers import BertTokenizer\n",
    "\n",
    "bert_tokenizer = BertTokenizer.from_pretrained('bert-base-multilingual-cased')\n",
    "\n",
    "img_ids = list(src_dict.keys())\n",
    "\n",
    "src_tokens= {idx: val for idx, val in zip(img_ids, data_processing(src_sent, bert_tokenizer))}\n",
    "ref_de_tokens = {idx: val for idx, val in zip(img_ids, data_processing(ref_de_sent, bert_tokenizer))}\n",
    "ref_fr_tokens = {idx: val for idx, val in zip(img_ids, data_processing(ref_fr_sent, bert_tokenizer))}\n",
    "\n",
    "mt_fr_tokens = {idx:data_processing(fr_sent, bert_tokenizer, MT=True) for idx, fr_sent in zip(img_ids,mt_fr)}\n",
    "mt_de_tokens = {idx:data_processing(de_sent, bert_tokenizer, MT=True) for idx, de_sent in zip(img_ids, mt_de)}\n"
   ]
  },
  {
   "cell_type": "code",
   "execution_count": 11,
   "metadata": {},
   "outputs": [],
   "source": [
    "# def oneByone_match(src_sent, ref_sent, mt_sent):\n",
    "#     source = []\n",
    "#     reference = []\n",
    "#     machineTranslation = []\n",
    "#     score = []\n",
    "\n",
    "#     for i in range(len(ref_sent)):\n",
    "#         src = src_sent[i]\n",
    "#         ref = ref_sent[i]        \n",
    "#         for mt in mt_sent[i]:\n",
    "#             if mt:\n",
    "#                 source.append(src)\n",
    "#                 reference.append(ref)\n",
    "#                 machineTranslation.append(mt[0])\n",
    "#                 score.append(mt[1])\n",
    "#     return (source, reference, machineTranslation, score)"
   ]
  },
  {
   "cell_type": "code",
   "execution_count": 12,
   "metadata": {},
   "outputs": [],
   "source": [
    "# print(len(src_sent))\n",
    "# print(len(ref_de_sent))\n",
    "# print(len(mt_de))\n",
    "# de_sent = oneByone_match(src_sent, ref_de_sent, mt_de)\n",
    "# print(len(de_sent))\n",
    "# fr_sent = oneByone_match(src_sent, ref_fr_sent, mt_fr)\n",
    "# print(len(fr_sent))"
   ]
  },
  {
   "cell_type": "code",
   "execution_count": 13,
   "metadata": {},
   "outputs": [
    {
     "name": "stdout",
     "output_type": "stream",
     "text": [
      "Image id: 25622467670.jpg\n",
      "\n",
      "Original source sentence:\n",
      "privately owned poster and restaurant poster\n",
      "\n",
      "Tokenized source sentence:\n",
      "['privately', 'owned', 'poster', 'and', 'restaurant', 'poster']\n",
      "\n",
      "Original reference German sentence:\n",
      "schild für privatbesitz und schild eines restaurants\n",
      "\n",
      "Tokenized reference German sentence:\n",
      "['s', '##child', 'für', 'privat', '##besitz', 'und', 's', '##child', 'eines', 'restaurants']\n",
      "\n",
      "Original reference French sentence:\n",
      "une pancarte 'propriété privée 'et un panneau pour un restaurant\n",
      "\n",
      "Tokenized reference French sentence:\n",
      "['une', 'pan', '##car', '##te', \"'\", 'propriété', 'privée', \"'\", 'et', 'un', 'pan', '##neau', 'pour', 'un', 'restaurant']\n",
      "\n",
      "[['une affiche aveuse et un restaurant .', -1.60627323003466], ['une maison apprenant à une affiche de restaurant et une affiche de restaurant', -0.351114913586192], ['une affiche et des', -1.60795922940204]]\n",
      "[[['une', 'affiche', 'ave', '##use', 'et', 'un', 'restaurant', '.'], -1.60627323003466], [['une', 'maison', 'app', '##rena', '##nt', 'à', 'une', 'affiche', 'de', 'restaurant', 'et', 'une', 'affiche', 'de', 'restaurant'], -0.351114913586192], [['une', 'affiche', 'et', 'des'], -1.60795922940204]]\n"
     ]
    }
   ],
   "source": [
    "### Test\n",
    "\n",
    "i = 30\n",
    "img_id = img_ids[i]\n",
    "print(f\"Image id: {img_id}\\n\")\n",
    "print(f\"Original source sentence:\\n{src_sent[i]}\\n\")\n",
    "print(f\"Tokenized source sentence:\\n{src_tokens[img_id]}\\n\")\n",
    "print(f\"Original reference German sentence:\\n{ref_de_sent[i]}\\n\")\n",
    "print(f\"Tokenized reference German sentence:\\n{ref_de_tokens[img_id]}\\n\")\n",
    "print(f\"Original reference French sentence:\\n{ref_fr_sent[i]}\\n\")\n",
    "print(f\"Tokenized reference French sentence:\\n{ref_fr_tokens[img_id]}\\n\")\n",
    "\n",
    "print(mt_fr[i])\n",
    "print(mt_fr_tokens[img_id])\n",
    "\n",
    "\n",
    "for i in range(len(src_sent)):\n",
    "    assert src_sent[i] == src_dict[img_ids[i]]\n",
    "    assert ref_fr_sent[i] == ref_fr_dict[img_ids[i]]\n",
    "    if len(mt_fr[i]) > 0:\n",
    "        assert mt_fr[i] == mt_fr_dict[img_ids[i]]        "
   ]
  },
  {
   "cell_type": "code",
   "execution_count": null,
   "metadata": {},
   "outputs": [],
   "source": []
  },
  {
   "cell_type": "markdown",
   "metadata": {},
   "source": [
    "# WMD with Bert embedding"
   ]
  },
  {
   "cell_type": "code",
   "execution_count": 14,
   "metadata": {},
   "outputs": [
    {
     "name": "stdout",
     "output_type": "stream",
     "text": [
      "Device: cpu\n",
      "Using GPU: False\n"
     ]
    }
   ],
   "source": [
    "use_GPU = torch.cuda.is_available()\n",
    "device = torch.device(\"cuda\" if use_GPU else \"cpu\")\n",
    "print('Device: ' + str(device))\n",
    "if use_GPU:\n",
    "    torch.cuda.manual_seed(0)\n",
    "    print('GPU: ' + str(torch.cuda.get_device_name(int(\"0\")))) \n",
    "print(\"Using GPU: {}\".format(use_GPU))"
   ]
  },
  {
   "cell_type": "code",
   "execution_count": null,
   "metadata": {},
   "outputs": [],
   "source": []
  },
  {
   "cell_type": "markdown",
   "metadata": {},
   "source": [
    "## Bert"
   ]
  },
  {
   "cell_type": "code",
   "execution_count": 15,
   "metadata": {},
   "outputs": [],
   "source": [
    "def bert_tokenization(txt, tokenizer):\n",
    "    \n",
    "    tokens = tokenizer.tokenize(\"[CLS] \" + txt + \" [SEP]\")\n",
    "    \n",
    "    indexed_tokens= torch.tensor(tokenizer.convert_tokens_to_ids(tokens)).unsqueeze(0)\n",
    "    segments_ids = torch.tensor([0]*len(tokens)).unsqueeze(0)\n",
    "\n",
    "    return tokens[1:-1], indexed_tokens, segments_ids "
   ]
  },
  {
   "cell_type": "code",
   "execution_count": 16,
   "metadata": {},
   "outputs": [],
   "source": [
    "### Each Layers' output\n",
    "def layer_processing(model):\n",
    "    layers = []\n",
    "\n",
    "    def layer_hook(module, input_, output):\n",
    "        layers.append(output[0])\n",
    "\n",
    "    for i in model.encoder.layer:\n",
    "        i.register_forward_hook(layer_hook)\n",
    "\n",
    "    return layers"
   ]
  },
  {
   "cell_type": "code",
   "execution_count": 17,
   "metadata": {},
   "outputs": [
    {
     "name": "stdout",
     "output_type": "stream",
     "text": [
      "\n"
     ]
    }
   ],
   "source": [
    "from transformers import BertTokenizer, BertModel\n",
    "bert_tokenizer = BertTokenizer.from_pretrained(\"bert-base-multilingual-cased\")\n",
    "bert_model = BertModel.from_pretrained('bert-base-multilingual-cased', return_dict=True)\n",
    "# bert_model.embeddings.word_embeddings\n",
    "bert_model.eval()\n",
    "print()\n"
   ]
  },
  {
   "cell_type": "code",
   "execution_count": 18,
   "metadata": {},
   "outputs": [
    {
     "name": "stdout",
     "output_type": "stream",
     "text": [
      "ein schlanker gelblicher hund beim absolvieren eines hindernislaufs , der in einem bereich mit nacktem erdboden aufgebaut ist\n",
      "['ein', 's', '##ch', '##lank', '##er', 'gel', '##bliche', '##r', 'hun', '##d', 'beim', 'ab', '##sol', '##vieren', 'eines', 'hin', '##dern', '##is', '##lauf', '##s', ',', 'der', 'in', 'einem', 'bere', '##ich', 'mit', 'na', '##ckte', '##m', 'er', '##d', '##boden', 'aufgebaut', 'ist']\n",
      "Num of tokens: 35\n",
      "Last State size: torch.Size([1, 35, 768])\n",
      "Pooling state size: torch.Size([1, 768])\n",
      "tensor([[[ 0.1663,  0.1419,  0.5582,  ...,  0.6827,  0.3857, -0.2903],\n",
      "         [-0.0510, -0.1802,  1.6126,  ...,  1.4017,  0.7537, -0.3717],\n",
      "         [ 0.3190, -0.2010,  0.5316,  ...,  0.8072,  0.5635, -0.2885],\n",
      "         ...,\n",
      "         [-0.0127, -0.5426,  0.6768,  ...,  0.7602,  0.9277, -0.4390],\n",
      "         [ 0.1554, -0.3840,  0.4842,  ...,  1.5283,  1.1576, -0.3436],\n",
      "         [-0.0743, -0.0172,  1.3659,  ...,  0.9191,  0.6367, -0.3853]]],\n",
      "       grad_fn=<NativeLayerNormBackward>)\n",
      "torch.Size([1, 37, 768])\n",
      "tensor([[-0.1917, -0.4037,  0.4887,  ...,  0.9999,  0.8460, -0.4913],\n",
      "        [-0.1134, -0.8120,  1.1166,  ...,  1.4725,  1.4648, -0.0701],\n",
      "        [ 0.8585,  0.0128,  0.6682,  ...,  0.9493,  1.0975, -0.3609],\n",
      "        ...,\n",
      "        [-0.3934, -0.6844,  0.2225,  ...,  0.9895,  1.4139, -0.3576],\n",
      "        [-0.0025, -0.2187,  0.3589,  ...,  1.2094,  1.2425, -0.3323],\n",
      "        [-0.4622, -0.5473,  1.1580,  ...,  0.8084,  0.9063, -0.0444]],\n",
      "       grad_fn=<MeanBackward1>)\n"
     ]
    }
   ],
   "source": [
    "# Test for Bert base multilingual cased\n",
    "# ref_tokens, ref_id, ref_seg = bert_tokenization(ref_de_sent[0], bert_tokenizer)\n",
    "# output = bert_model(ref_id)\n",
    "# print(ref_de_sent[0])\n",
    "# print(ref_tokens)\n",
    "# # print(bert_model.embeddings.word_embeddings(torch.tensor(bert_tokenizer(ref_de_sent[0])[\"input_ids\"])).size())\n",
    "# print(f\"Num of tokens: {len(ref_tokens)}\")\n",
    "# print(f\"Last State size: {output.last_hidden_state[:,1:-1,:].size()}\")\n",
    "# print(f\"Pooling state size: {output.pooler_output.size()}\")\n",
    "\n",
    "ref_tokens = bert_tokenizer.tokenize(ref_de_sent[0])\n",
    "ref_id = bert_tokenizer(ref_de_sent[0],return_tensors=\"pt\")\n",
    "output = bert_model(ref_id['input_ids'])\n",
    "\n",
    "print(ref_de_sent[0])\n",
    "print(ref_tokens)\n",
    "# print(bert_model.embeddings.word_embeddings(torch.tensor(bert_tokenizer(ref_de_sent[0])[\"input_ids\"])).size())\n",
    "print(f\"Num of tokens: {len(ref_tokens)}\")\n",
    "print(f\"Last State size: {output.last_hidden_state[:,1:-1,:].size()}\")\n",
    "print(f\"Pooling state size: {output.pooler_output.size()}\")\n",
    "print(output.last_hidden_state)\n",
    "\n",
    "### Each Layers' output\n",
    "# def processing(model):\n",
    "#     layers = []\n",
    "\n",
    "#     def layer_hook(module, input_, output):\n",
    "#         layers.append(output[0])\n",
    "\n",
    "#     for i in model.encoder.layer:\n",
    "#         i.register_forward_hook(layer_hook)\n",
    "\n",
    "#     return layers\n",
    "\n",
    "# import time\n",
    "# start = time.time()\n",
    "layers = layer_processing(bert_model)\n",
    "bert_model(bert_tokenizer(ref_de_sent[0],return_tensors=\"pt\")['input_ids'])\n",
    "print(layers[0].size())\n",
    "out = torch.stack(layers[-4:]).squeeze(1).permute(1,0,2)\n",
    "result = torch.mean(out, dim=1)\n",
    "print(result)\n",
    "\n",
    "# layers2 = layer_processing(bert_model)\n",
    "# bert_model(bert_tokenizer(ref_de_sent[1],return_tensors=\"pt\")['input_ids'])\n",
    "# out = torch.stack(layers[-4:]).squeeze(1).permute(1,0,2)\n",
    "# result = torch.mean(out, dim=1)\n",
    "# print(result)\n",
    "# end = time.time()- start\n",
    "# print(end)"
   ]
  },
  {
   "cell_type": "code",
   "execution_count": 19,
   "metadata": {},
   "outputs": [],
   "source": [
    "## (Discard bert-base-multilingual-uncased)"
   ]
  },
  {
   "cell_type": "code",
   "execution_count": 20,
   "metadata": {},
   "outputs": [],
   "source": [
    "# from transformers import AutoTokenizer, AutoModel\n",
    "# bert_tokenizer_un = AutoTokenizer.from_pretrained(\"bert-base-multilingual-uncased\")\n",
    "# bert_model_un = AutoModel.from_pretrained(\"bert-base-multilingual-uncased\",return_dict=True)\n",
    "# # bert_model_un.embeddings.word_embeddings\n",
    "# bert_model_un.eval()\n",
    "# print()"
   ]
  },
  {
   "cell_type": "code",
   "execution_count": 21,
   "metadata": {},
   "outputs": [],
   "source": [
    "# # Test for Bert base multilingual uncased\n",
    "# ref_tokens, ref_id, ref_seg = bert_tokenization(ref_fr_sent[30], bert_tokenizer_un)\n",
    "# output = bert_model_un(ref_id)\n",
    "\n",
    "# print(ref_fr_sent[30])\n",
    "# print(ref_tokens)\n",
    "# print(f\"Num of tokens: {len(ref_tokens)}\")\n",
    "# print(f\"Last State size: {output.last_hidden_state[:,1:-1,:].size()}\")\n",
    "# print(f\"Pooling state size: {output.pooler_output.size()}\")"
   ]
  },
  {
   "cell_type": "markdown",
   "metadata": {},
   "source": [
    "## XLM-RoBERTa"
   ]
  },
  {
   "cell_type": "code",
   "execution_count": 22,
   "metadata": {},
   "outputs": [],
   "source": [
    "def xlm_roberta_tokenization(txt, tokenizer):\n",
    "    \n",
    "    tokens = tokenizer.tokenize(\"<s> \" + txt + \" </s>\")\n",
    "    \n",
    "    indexed_tokens= torch.tensor(tokenizer.convert_tokens_to_ids(tokens)).unsqueeze(0)\n",
    "\n",
    "    return tokens[1:-1], indexed_tokens "
   ]
  },
  {
   "cell_type": "code",
   "execution_count": 23,
   "metadata": {},
   "outputs": [
    {
     "name": "stdout",
     "output_type": "stream",
     "text": [
      "\n"
     ]
    }
   ],
   "source": [
    "from transformers import AutoTokenizer, AutoModel\n",
    "xlm_r_tokenizer = AutoTokenizer.from_pretrained(\"xlm-roberta-base\")\n",
    "xlm_r_model = AutoModel.from_pretrained(\"xlm-roberta-base\",return_dict=True)\n",
    "xlm_r_model.eval()\n",
    "# xlm_r_model.embeddings.word_embeddings\n",
    "print()"
   ]
  },
  {
   "cell_type": "code",
   "execution_count": 20,
   "metadata": {},
   "outputs": [
    {
     "name": "stdout",
     "output_type": "stream",
     "text": [
      "une pancarte 'propriété privée 'et un panneau pour un restaurant\n",
      "['▁une', '▁pan', 'car', 'te', \"▁'\", 'prop', 'ri', 'été', '▁privée', \"▁'\", 'et', '▁un', '▁panne', 'au', '▁pour', '▁un', '▁restaurant']\n",
      "Num of tokens: 17\n",
      "Last State size: torch.Size([1, 17, 768])\n",
      "Pooling state size: torch.Size([1, 768])\n"
     ]
    }
   ],
   "source": [
    "# Test for xlm-roberta-base\n",
    "\n",
    "# ref_tokens = xlm_r_tokenizer.tokenize(ref_de_sent[0])\n",
    "# ref_id = xlm_r_tokenizer(ref_de_sent[0], return_tensors=\"pt\")\n",
    "ref_tokens, ref_id = xlm_roberta_tokenization(ref_fr_sent[30], xlm_r_tokenizer)\n",
    "output = xlm_r_model(ref_id)\n",
    "\n",
    "print(ref_fr_sent[30])\n",
    "print(ref_tokens)\n",
    "print(f\"Num of tokens: {len(ref_tokens)}\")\n",
    "print(f\"Last State size: {output.last_hidden_state[:,1:-1,:].size()}\")\n",
    "print(f\"Pooling state size: {output.pooler_output.size()}\")\n"
   ]
  },
  {
   "cell_type": "markdown",
   "metadata": {},
   "source": [
    "## DistilBert"
   ]
  },
  {
   "cell_type": "code",
   "execution_count": 21,
   "metadata": {},
   "outputs": [
    {
     "name": "stdout",
     "output_type": "stream",
     "text": [
      "\n"
     ]
    }
   ],
   "source": [
    "from transformers import AutoTokenizer, AutoModel\n",
    "distil_bert_tokenizer = AutoTokenizer.from_pretrained(\"distilbert-base-multilingual-cased\")\n",
    "distil_bert_model = AutoModel.from_pretrained(\"distilbert-base-multilingual-cased\", return_dict=True)\n",
    "distil_bert_model.eval()\n",
    "# distil_bert_model.embeddings.word_embeddings\n",
    "print()"
   ]
  },
  {
   "cell_type": "code",
   "execution_count": 26,
   "metadata": {},
   "outputs": [
    {
     "name": "stdout",
     "output_type": "stream",
     "text": [
      "une pancarte 'propriété privée 'et un panneau pour un restaurant\n",
      "['une', 'pan', '##car', '##te', \"'\", 'propriété', 'privée', \"'\", 'et', 'un', 'pan', '##neau', 'pour', 'un', 'restaurant']\n",
      "Num of tokens: 15\n",
      "Last State size: torch.Size([1, 15, 768])\n"
     ]
    }
   ],
   "source": [
    "# Test for distilBert\n",
    "ref_tokens = distil_bert_tokenizer.tokenize(ref_fr_sent[30])\n",
    "ref_id = distil_bert_tokenizer(ref_fr_sent[30], return_tensors=\"pt\")\n",
    "output = distil_bert_model(ref_id['input_ids'])\n",
    "\n",
    "print(ref_fr_sent[30])\n",
    "print(ref_tokens)\n",
    "print(f\"Num of tokens: {len(ref_tokens)}\")\n",
    "print(f\"Last State size: {output.last_hidden_state[:,1:-1,:].size()}\")"
   ]
  },
  {
   "cell_type": "code",
   "execution_count": null,
   "metadata": {},
   "outputs": [],
   "source": []
  },
  {
   "cell_type": "code",
   "execution_count": 27,
   "metadata": {},
   "outputs": [],
   "source": [
    "# from transformers import RobertaTokenizer, RobertaModel\n",
    "# roberta_tokenizer = RobertaTokenizer.from_pretrained(\"roberta-base\")\n",
    "# roberta_model = RobertaModel.from_pretrained(\"roberta-base\")\n",
    "# roberta_model.eval()\n",
    "# print()\n",
    "\n",
    "# from transformers import AutoTokenizer, AutoModel\n",
    "# xlm_mlm_tokenizer = AutoTokenizer.from_pretrained(\"xlm-mlm-100-1280\")\n",
    "# xlm_mlm_model = AutoModel.from_pretrained(\"xlm-mlm-100-1280\")\n",
    "# xlm_mlm_model.eval()\n",
    "# print()"
   ]
  },
  {
   "cell_type": "code",
   "execution_count": 28,
   "metadata": {},
   "outputs": [],
   "source": [
    "# ref_tokens = roberta_tokenizer.tokenize(ref_de_sent[0])\n",
    "# ref_id = roberta_tokenizer(ref_de_sent[0], return_tensors=\"pt\")\n",
    "\n",
    "# output = distil_bert_model(ref_id['input_ids'])\n",
    "# print(ref_de_sent[0])\n",
    "# print(len(ref_tokens))\n",
    "# print(output.last_hidden_state.size())\n"
   ]
  },
  {
   "cell_type": "code",
   "execution_count": null,
   "metadata": {},
   "outputs": [],
   "source": []
  },
  {
   "cell_type": "code",
   "execution_count": null,
   "metadata": {},
   "outputs": [],
   "source": []
  },
  {
   "cell_type": "markdown",
   "metadata": {},
   "source": [
    "## Meteor Score & Fluent based penalty"
   ]
  },
  {
   "cell_type": "code",
   "execution_count": 24,
   "metadata": {},
   "outputs": [],
   "source": [
    "# -*- coding: utf-8 -*-\n",
    "# Natural Language Toolkit: Machine Translation\n",
    "#\n",
    "# Copyright (C) 2001-2020 NLTK Project\n",
    "# Author: Uday Krishna <udaykrishna5@gmail.com>\n",
    "# URL: <http://nltk.org/>\n",
    "# For license information, see LICENSE.TXT\n",
    "\n",
    "\n",
    "from nltk.stem.porter import PorterStemmer\n",
    "from nltk.corpus import wordnet\n",
    "from itertools import chain, product\n",
    "\n",
    "def _generate_enums(hypothesis, reference, preprocess=str.lower):\n",
    "    \"\"\"\n",
    "    Takes in string inputs for hypothesis and reference and returns\n",
    "    enumerated word lists for each of them\n",
    "\n",
    "    :param hypothesis: hypothesis string\n",
    "    :type hypothesis: str\n",
    "    :param reference: reference string\n",
    "    :type reference: str\n",
    "    :preprocess: preprocessing method (default str.lower)\n",
    "    :type preprocess: method\n",
    "    :return: enumerated words list\n",
    "    :rtype: list of 2D tuples, list of 2D tuples\n",
    "    \"\"\"\n",
    "    hypothesis_list = list(enumerate(preprocess(hypothesis).split()))\n",
    "    reference_list = list(enumerate(preprocess(reference).split()))\n",
    "    return hypothesis_list, reference_list\n",
    "\n",
    "\n",
    "def exact_match(hypothesis, reference):\n",
    "    \"\"\"\n",
    "    matches exact words in hypothesis and reference\n",
    "    and returns a word mapping based on the enumerated\n",
    "    word id between hypothesis and reference\n",
    "\n",
    "    :param hypothesis: hypothesis string\n",
    "    :type hypothesis: str\n",
    "    :param reference: reference string\n",
    "    :type reference: str\n",
    "    :return: enumerated matched tuples, enumerated unmatched hypothesis tuples,\n",
    "             enumerated unmatched reference tuples\n",
    "    :rtype: list of 2D tuples, list of 2D tuples,  list of 2D tuples\n",
    "    \"\"\"\n",
    "    hypothesis_list, reference_list = _generate_enums(hypothesis, reference)\n",
    "    return _match_enums(hypothesis_list, reference_list)\n",
    "\n",
    "\n",
    "\n",
    "def _match_enums(enum_hypothesis_list, enum_reference_list):\n",
    "    \"\"\"\n",
    "    matches exact words in hypothesis and reference and returns\n",
    "    a word mapping between enum_hypothesis_list and enum_reference_list\n",
    "    based on the enumerated word id.\n",
    "\n",
    "    :param enum_hypothesis_list: enumerated hypothesis list\n",
    "    :type enum_hypothesis_list: list of tuples\n",
    "    :param enum_reference_list: enumerated reference list\n",
    "    :type enum_reference_list: list of 2D tuples\n",
    "    :return: enumerated matched tuples, enumerated unmatched hypothesis tuples,\n",
    "             enumerated unmatched reference tuples\n",
    "    :rtype: list of 2D tuples, list of 2D tuples,  list of 2D tuples\n",
    "    \"\"\"\n",
    "    word_match = []\n",
    "    for i in range(len(enum_hypothesis_list))[::-1]:\n",
    "        for j in range(len(enum_reference_list))[::-1]:\n",
    "            if enum_hypothesis_list[i][1] == enum_reference_list[j][1]:\n",
    "                word_match.append(\n",
    "                    (enum_hypothesis_list[i][0], enum_reference_list[j][0])\n",
    "                )\n",
    "                (enum_hypothesis_list.pop(i)[1], enum_reference_list.pop(j)[1])\n",
    "                break\n",
    "    return word_match, enum_hypothesis_list, enum_reference_list\n",
    "\n",
    "\n",
    "def _enum_stem_match(\n",
    "    enum_hypothesis_list, enum_reference_list, stemmer=PorterStemmer()\n",
    "):\n",
    "    \"\"\"\n",
    "    Stems each word and matches them in hypothesis and reference\n",
    "    and returns a word mapping between enum_hypothesis_list and\n",
    "    enum_reference_list based on the enumerated word id. The function also\n",
    "    returns a enumerated list of unmatched words for hypothesis and reference.\n",
    "\n",
    "    :param enum_hypothesis_list:\n",
    "    :type enum_hypothesis_list:\n",
    "    :param enum_reference_list:\n",
    "    :type enum_reference_list:\n",
    "    :param stemmer: nltk.stem.api.StemmerI object (default PorterStemmer())\n",
    "    :type stemmer: nltk.stem.api.StemmerI or any class that implements a stem method\n",
    "    :return: enumerated matched tuples, enumerated unmatched hypothesis tuples,\n",
    "             enumerated unmatched reference tuples\n",
    "    :rtype: list of 2D tuples, list of 2D tuples,  list of 2D tuples\n",
    "    \"\"\"\n",
    "    stemmed_enum_list1 = [\n",
    "        (word_pair[0], stemmer.stem(word_pair[1])) for word_pair in enum_hypothesis_list\n",
    "    ]\n",
    "\n",
    "    stemmed_enum_list2 = [\n",
    "        (word_pair[0], stemmer.stem(word_pair[1])) for word_pair in enum_reference_list\n",
    "    ]\n",
    "\n",
    "    word_match, enum_unmat_hypo_list, enum_unmat_ref_list = _match_enums(\n",
    "        stemmed_enum_list1, stemmed_enum_list2\n",
    "    )\n",
    "\n",
    "    enum_unmat_hypo_list = (\n",
    "        list(zip(*enum_unmat_hypo_list)) if len(enum_unmat_hypo_list) > 0 else []\n",
    "    )\n",
    "\n",
    "    enum_unmat_ref_list = (\n",
    "        list(zip(*enum_unmat_ref_list)) if len(enum_unmat_ref_list) > 0 else []\n",
    "    )\n",
    "\n",
    "    enum_hypothesis_list = list(\n",
    "        filter(lambda x: x[0] not in enum_unmat_hypo_list, enum_hypothesis_list)\n",
    "    )\n",
    "\n",
    "    enum_reference_list = list(\n",
    "        filter(lambda x: x[0] not in enum_unmat_ref_list, enum_reference_list)\n",
    "    )\n",
    "\n",
    "    return word_match, enum_hypothesis_list, enum_reference_list\n",
    "\n",
    "\n",
    "def stem_match(hypothesis, reference, stemmer=PorterStemmer()):\n",
    "    \"\"\"\n",
    "    Stems each word and matches them in hypothesis and reference\n",
    "    and returns a word mapping between hypothesis and reference\n",
    "\n",
    "    :param hypothesis:\n",
    "    :type hypothesis:\n",
    "    :param reference:\n",
    "    :type reference:\n",
    "    :param stemmer: nltk.stem.api.StemmerI object (default PorterStemmer())\n",
    "    :type stemmer: nltk.stem.api.StemmerI or any class that\n",
    "                   implements a stem method\n",
    "    :return: enumerated matched tuples, enumerated unmatched hypothesis tuples,\n",
    "             enumerated unmatched reference tuples\n",
    "    :rtype: list of 2D tuples, list of 2D tuples,  list of 2D tuples\n",
    "    \"\"\"\n",
    "    enum_hypothesis_list, enum_reference_list = _generate_enums(hypothesis, reference)\n",
    "    return _enum_stem_match(enum_hypothesis_list, enum_reference_list, stemmer=stemmer)\n",
    "\n",
    "\n",
    "\n",
    "def _enum_wordnetsyn_match(enum_hypothesis_list, enum_reference_list, wordnet=wordnet):\n",
    "    \"\"\"\n",
    "    Matches each word in reference to a word in hypothesis\n",
    "    if any synonym of a hypothesis word is the exact match\n",
    "    to the reference word.\n",
    "\n",
    "    :param enum_hypothesis_list: enumerated hypothesis list\n",
    "    :param enum_reference_list: enumerated reference list\n",
    "    :param wordnet: a wordnet corpus reader object (default nltk.corpus.wordnet)\n",
    "    :type wordnet: WordNetCorpusReader\n",
    "    :return: list of matched tuples, unmatched hypothesis list, unmatched reference list\n",
    "    :rtype:  list of tuples, list of tuples, list of tuples\n",
    "\n",
    "    \"\"\"\n",
    "    word_match = []\n",
    "    for i in range(len(enum_hypothesis_list))[::-1]:\n",
    "        hypothesis_syns = set(\n",
    "            chain(\n",
    "                *[\n",
    "                    [\n",
    "                        lemma.name()\n",
    "                        for lemma in synset.lemmas()\n",
    "                        if lemma.name().find(\"_\") < 0\n",
    "                    ]\n",
    "                    for synset in wordnet.synsets(enum_hypothesis_list[i][1])\n",
    "                ]\n",
    "            )\n",
    "        ).union({enum_hypothesis_list[i][1]})\n",
    "        for j in range(len(enum_reference_list))[::-1]:\n",
    "            if enum_reference_list[j][1] in hypothesis_syns:\n",
    "                word_match.append(\n",
    "                    (enum_hypothesis_list[i][0], enum_reference_list[j][0])\n",
    "                )\n",
    "                enum_hypothesis_list.pop(i), enum_reference_list.pop(j)\n",
    "                break\n",
    "    return word_match, enum_hypothesis_list, enum_reference_list\n",
    "\n",
    "\n",
    "def wordnetsyn_match(hypothesis, reference, wordnet=wordnet):\n",
    "    \"\"\"\n",
    "    Matches each word in reference to a word in hypothesis if any synonym\n",
    "    of a hypothesis word is the exact match to the reference word.\n",
    "\n",
    "    :param hypothesis: hypothesis string\n",
    "    :param reference: reference string\n",
    "    :param wordnet: a wordnet corpus reader object (default nltk.corpus.wordnet)\n",
    "    :type wordnet: WordNetCorpusReader\n",
    "    :return: list of mapped tuples\n",
    "    :rtype: list of tuples\n",
    "    \"\"\"\n",
    "    enum_hypothesis_list, enum_reference_list = _generate_enums(hypothesis, reference)\n",
    "    return _enum_wordnetsyn_match(\n",
    "        enum_hypothesis_list, enum_reference_list, wordnet=wordnet\n",
    "    )\n",
    "\n",
    "\n",
    "\n",
    "def _enum_allign_words(\n",
    "    enum_hypothesis_list, enum_reference_list, stemmer=PorterStemmer(), wordnet=wordnet\n",
    "):\n",
    "    \"\"\"\n",
    "    Aligns/matches words in the hypothesis to reference by sequentially\n",
    "    applying exact match, stemmed match and wordnet based synonym match.\n",
    "    in case there are multiple matches the match which has the least number\n",
    "    of crossing is chosen. Takes enumerated list as input instead of\n",
    "    string input\n",
    "\n",
    "    :param enum_hypothesis_list: enumerated hypothesis list\n",
    "    :param enum_reference_list: enumerated reference list\n",
    "    :param stemmer: nltk.stem.api.StemmerI object (default PorterStemmer())\n",
    "    :type stemmer: nltk.stem.api.StemmerI or any class that implements a stem method\n",
    "    :param wordnet: a wordnet corpus reader object (default nltk.corpus.wordnet)\n",
    "    :type wordnet: WordNetCorpusReader\n",
    "    :return: sorted list of matched tuples, unmatched hypothesis list,\n",
    "             unmatched reference list\n",
    "    :rtype: list of tuples, list of tuples, list of tuples\n",
    "    \"\"\"\n",
    "    exact_matches, enum_hypothesis_list, enum_reference_list = _match_enums(\n",
    "        enum_hypothesis_list, enum_reference_list\n",
    "    )\n",
    "\n",
    "    stem_matches, enum_hypothesis_list, enum_reference_list = _enum_stem_match(\n",
    "        enum_hypothesis_list, enum_reference_list, stemmer=stemmer\n",
    "    )\n",
    "\n",
    "    wns_matches, enum_hypothesis_list, enum_reference_list = _enum_wordnetsyn_match(\n",
    "        enum_hypothesis_list, enum_reference_list, wordnet=wordnet\n",
    "    )\n",
    "\n",
    "    return (\n",
    "        sorted(\n",
    "            exact_matches + stem_matches + wns_matches, key=lambda wordpair: wordpair[0]\n",
    "        ),\n",
    "        enum_hypothesis_list,\n",
    "        enum_reference_list,\n",
    "    )\n",
    "\n",
    "\n",
    "def allign_words(hypothesis, reference, stemmer=PorterStemmer(), wordnet=wordnet):\n",
    "    \"\"\"\n",
    "    Aligns/matches words in the hypothesis to reference by sequentially\n",
    "    applying exact match, stemmed match and wordnet based synonym match.\n",
    "    In case there are multiple matches the match which has the least number\n",
    "    of crossing is chosen.\n",
    "\n",
    "    :param hypothesis: hypothesis string\n",
    "    :param reference: reference string\n",
    "    :param stemmer: nltk.stem.api.StemmerI object (default PorterStemmer())\n",
    "    :type stemmer: nltk.stem.api.StemmerI or any class that implements a stem method\n",
    "    :param wordnet: a wordnet corpus reader object (default nltk.corpus.wordnet)\n",
    "    :type wordnet: WordNetCorpusReader\n",
    "    :return: sorted list of matched tuples, unmatched hypothesis list, unmatched reference list\n",
    "    :rtype: list of tuples, list of tuples, list of tuples\n",
    "    \"\"\"\n",
    "    enum_hypothesis_list, enum_reference_list = _generate_enums(hypothesis, reference)\n",
    "    return _enum_allign_words(\n",
    "        enum_hypothesis_list, enum_reference_list, stemmer=stemmer, wordnet=wordnet\n",
    "    )\n",
    "\n",
    "def _count_chunks(matches):\n",
    "    \"\"\"\n",
    "    Counts the fewest possible number of chunks such that matched unigrams\n",
    "    of each chunk are adjacent to each other. This is used to caluclate the\n",
    "    fragmentation part of the metric.\n",
    "\n",
    "    :param matches: list containing a mapping of matched words (output of allign_words)\n",
    "    :return: Number of chunks a sentence is divided into post allignment\n",
    "    :rtype: int\n",
    "    \"\"\"\n",
    "    i = 0\n",
    "    chunks = 1\n",
    "    while i < len(matches) - 1:\n",
    "        if (matches[i + 1][0] == matches[i][0] + 1) and (\n",
    "            matches[i + 1][1] == matches[i][1] + 1\n",
    "        ):\n",
    "            i += 1\n",
    "            continue\n",
    "        i += 1\n",
    "        chunks += 1\n",
    "    return chunks\n",
    "\n",
    "def penalty(    \n",
    "    reference,\n",
    "    hypothesis,\n",
    "    preprocess=str.lower,\n",
    "    stemmer=PorterStemmer(),\n",
    "    wordnet=wordnet):\n",
    "    \n",
    "    enum_hypothesis, enum_reference = _generate_enums(\n",
    "        hypothesis, reference, preprocess=preprocess\n",
    "    )\n",
    "    \n",
    "    translation_length = len(enum_hypothesis)\n",
    "    reference_length = len(enum_reference)\n",
    "    \n",
    "    matches, _, _ = _enum_allign_words(enum_hypothesis, enum_reference, stemmer=stemmer)\n",
    "    \n",
    "    matches_count = len(matches)\n",
    "    \n",
    "    try:\n",
    "        chunk_count = float(_count_chunks(matches))\n",
    "        frag_frac = chunk_count / matches_count\n",
    "        \n",
    "    except ZeroDivisionError: # No unigrams match\n",
    "        return 0\n",
    "    \n",
    "    return frag_frac\n"
   ]
  },
  {
   "cell_type": "code",
   "execution_count": null,
   "metadata": {},
   "outputs": [],
   "source": []
  },
  {
   "cell_type": "code",
   "execution_count": 25,
   "metadata": {},
   "outputs": [],
   "source": [
    "## From the aspects of model embedding.\n",
    "def tokens_to_fracdict(tokens):\n",
    "    cntdict = defaultdict(lambda : 0)\n",
    "        \n",
    "    for token in tokens:\n",
    "        cntdict[token] += 1\n",
    "    totalcnt = sum(cntdict.values())\n",
    "    return {token: float(cnt)/totalcnt for token, cnt in cntdict.items()}\n",
    "\n",
    "## From the aspects of model output, considering contextual relationship.\n",
    "## Each tokens means different, even they are the same.\n",
    "def tokens_to_fracdict_contextual(tokens):\n",
    "    \n",
    "    return {token: 1/len(tokens) for token in range(len(tokens))}"
   ]
  },
  {
   "cell_type": "code",
   "execution_count": 36,
   "metadata": {},
   "outputs": [],
   "source": [
    "## There are two components can be used as embedding\n",
    "## 1) model embedding \n",
    "## 2) Model output states\n",
    "\n",
    "def embedding_processing(sent1, sent2, tokenizer, model, embed_type):\n",
    "    \n",
    "    sent1_tokens = tokenizer.tokenize(sent1)\n",
    "    sent2_tokens = tokenizer.tokenize(sent2)\n",
    "    \n",
    "    if embed_type == 1:\n",
    "        \n",
    "        sent1_buckets = tokens_to_fracdict(sent1_tokens)\n",
    "        sent2_buckets = tokens_to_fracdict(sent2_tokens) \n",
    "        \n",
    "        sent1_embedding = model.embeddings.word_embeddings(torch.tensor(tokenizer.convert_tokens_to_ids(list(sent1_buckets.keys()))))\n",
    "        sent2_embedding = model.embeddings.word_embeddings(torch.tensor(tokenizer.convert_tokens_to_ids(list(sent2_buckets.keys()))))\n",
    "        \n",
    "    elif embed_type == 2:\n",
    "        \n",
    "#         sent1_buckets = tokens_to_fracdict(sent1_tokens)\n",
    "#         sent2_buckets = tokens_to_fracdict(sent2_tokens) \n",
    "        \n",
    "        sent1_buckets = tokens_to_fracdict_contextual(sent1_tokens)\n",
    "        sent2_buckets = tokens_to_fracdict_contextual(sent2_tokens) \n",
    "        \n",
    "        sent1_id = tokenizer(sent1,return_tensors=\"pt\")\n",
    "        sent2_id = tokenizer(sent2,return_tensors=\"pt\")\n",
    "        \n",
    "#         sent1_embedding = model(sent1_id['input_ids']).last_hidden_state.squeeze(0)\n",
    "#         sent2_embedding = model(sent2_id['input_ids']).last_hidden_state.squeeze(0)\n",
    "\n",
    "\n",
    "        layers = layer_processing(model)\n",
    "\n",
    "        model(sent1_id['input_ids'])\n",
    "        sent1_embedding = torch.mean(torch.stack(layers[-4:]).squeeze(1).permute(1,0,2), dim=1)\n",
    "        \n",
    "        model(sent2_id['input_ids'])\n",
    "        sent2_embedding = torch.mean(torch.stack(layers[-4:]).squeeze(1).permute(1,0,2), dim=1)\n",
    "        \n",
    "        del layers\n",
    "    \n",
    "    \n",
    "    if sent1_embedding.size()[0] - 2 == len(sent1_tokens):\n",
    "        sent1_embedding = sent1_embedding[1:-1,:] # Remove bos and eos tokens\n",
    "\n",
    "    if sent2_embedding.size()[0] - 2 == len(sent2_tokens):\n",
    "        sent2_embedding = sent2_embedding[1:-1,:] # Remove bos and eos tokens  \n",
    "    \n",
    "    \n",
    "    all_embedding = torch.cat([sent1_embedding, sent2_embedding])\n",
    "    \n",
    "#     print(len(sent1_tokens))\n",
    "#     print(len(sent2_tokens))\n",
    "#     print(sent1_embedding.size())\n",
    "#     print(sent2_embedding.size())\n",
    "\n",
    "    assert len(sent1_buckets) + len(sent2_buckets) == all_embedding.size()[0]\n",
    "    \n",
    "    return sent1_buckets, sent2_buckets, all_embedding"
   ]
  },
  {
   "cell_type": "code",
   "execution_count": null,
   "metadata": {},
   "outputs": [],
   "source": []
  },
  {
   "cell_type": "code",
   "execution_count": 27,
   "metadata": {},
   "outputs": [],
   "source": [
    "def word_mover_distance_probspec(sent1_buckets, sent2_buckets, all_embedding, lpFile=None,):\n",
    "    \n",
    "#     first_sent_tokens  = bert_tokenizer.tokenize(first_sent)\n",
    "#     second_sent_tokens = bert_tokenizer.tokenize(second_sent)\n",
    "    \n",
    "#     first_sent_buckets = tokens_to_fracdict(first_sent_tokens)\n",
    "#     second_sent_buckets = tokens_to_fracdict(second_sent_tokens)\n",
    "    \n",
    "#     first_sent_embedding = model.embeddings.word_embeddings(torch.tensor(bert_tokenizer.convert_tokens_to_ids(list(first_sent_buckets.keys()))))\n",
    "#     second_sent_embedding = model.embeddings.word_embeddings(torch.tensor(bert_tokenizer.convert_tokens_to_ids(list(second_sent_buckets.keys()))))\n",
    "    \n",
    "#     all_embedding = torch.cat([first_sent_embedding, second_sent_embedding])\n",
    "    \n",
    "    \n",
    "#     first_sent_tokens, first_id, first_seg  = bert_tokenization(first_sent, bert_tokenizer)\n",
    "#     second_sent_tokens, second_id, second_seg = bert_tokenization(second_sent, bert_tokenizer)\n",
    "    \n",
    "#     first_sent_buckets = tokens_to_fracdict(first_sent_tokens)\n",
    "#     second_sent_buckets = tokens_to_fracdict(second_sent_tokens)\n",
    "    \n",
    "#     first_sent_embedding = bert_processing(first_id, first_seg, model)\n",
    "#     second_sent_embedding = bert_processing(second_id, second_seg, model)\n",
    "    \n",
    "#     all_embedding = torch.cat([first_sent_embedding, second_sent_embedding])\n",
    "    \n",
    "    \n",
    "    # Updated buckets with labeled name\n",
    "    first_sent_buckets = {f\"x{idx}\": item[1] for idx, item in enumerate(sent1_buckets.items())}\n",
    "    second_sent_buckets = {f\"y{idx}\": item[1] for idx, item in enumerate(sent2_buckets.items())}\n",
    "\n",
    "    var_names = list(first_sent_buckets.keys()) + list(second_sent_buckets.keys())\n",
    "    \n",
    "    assert len(var_names) == all_embedding.size(0)\n",
    "    \n",
    "    wordvecs = {token: embedding.detach().numpy() for token, embedding in zip(var_names, all_embedding)}\n",
    "    \n",
    "    \n",
    "    T = pulp.LpVariable.dicts('T_matrix', list(product(var_names, var_names)), lowBound=0)\n",
    "\n",
    "    prob = pulp.LpProblem('WMD', sense=pulp.LpMinimize)\n",
    "    \n",
    "    prob += pulp.lpSum([T[token1, token2]*euclidean(wordvecs[token1], wordvecs[token2])\n",
    "                        for token1, token2 in product(var_names, var_names)])\n",
    "    \n",
    "    for token2 in second_sent_buckets:   #constrains\n",
    "        prob += pulp.lpSum([T[token1, token2] for token1 in first_sent_buckets])==second_sent_buckets[token2]\n",
    "        \n",
    "    for token1 in first_sent_buckets:    #constrains\n",
    "        prob += pulp.lpSum([T[token1, token2] for token2 in second_sent_buckets])==first_sent_buckets[token1]\n",
    "\n",
    "    if lpFile!=None:\n",
    "        prob.writeLP(lpFile)\n",
    "\n",
    "    prob.solve()\n",
    "\n",
    "    return prob"
   ]
  },
  {
   "cell_type": "code",
   "execution_count": 28,
   "metadata": {},
   "outputs": [],
   "source": [
    "def word_mover_distance(sent1, sent2, tokenizer, model, embed_type, lpFile=None):\n",
    "    \n",
    "    sent1_buckets, sent2_buckets, embeddings = embedding_processing(sent1, sent2, tokenizer, model, embed_type)\n",
    "    \n",
    "    prob = word_mover_distance_probspec(sent1_buckets, sent2_buckets, embeddings, lpFile=lpFile)\n",
    "    \n",
    "    return pulp.value(prob.objective)"
   ]
  },
  {
   "cell_type": "code",
   "execution_count": 29,
   "metadata": {},
   "outputs": [],
   "source": [
    "def fluency_based_wmd(wmd, ref, hypo, gamma=0.2):\n",
    "    \n",
    "    frag_penalty = penalty(ref, hypo)\n",
    "\n",
    "    # print(frag_penalty)\n",
    "    \n",
    "    return wmd - gamma *(0.5 - frag_penalty)"
   ]
  },
  {
   "cell_type": "code",
   "execution_count": 30,
   "metadata": {},
   "outputs": [],
   "source": [
    "# embedding_processing(src_sent[0],ref_de_sent[0], bert_tokenizer, bert_model,1)"
   ]
  },
  {
   "cell_type": "code",
   "execution_count": null,
   "metadata": {},
   "outputs": [],
   "source": []
  },
  {
   "cell_type": "markdown",
   "metadata": {},
   "source": [
    "# Evaluation"
   ]
  },
  {
   "cell_type": "code",
   "execution_count": 31,
   "metadata": {},
   "outputs": [],
   "source": [
    "def compute_WMD_WMDo(ref_sent, mt_sent, tokenizer, model, embed_type):\n",
    "    score = []\n",
    "    wmd = []\n",
    "    wmdo =[]\n",
    "\n",
    "    for i in range(len(ref_sent)):\n",
    "        ref = ref_sent[i]        \n",
    "        for mt in mt_sent[i]:\n",
    "            if mt:\n",
    "                hypo = mt[0]\n",
    "                wmd_tmp = word_mover_distance(ref, hypo, tokenizer, model, embed_type)\n",
    "                wmdo_tmp = fluency_based_wmd(wmd_tmp, ref, hypo)\n",
    "#                 wmdo_tmp = 0\n",
    "                score.append(mt[1])\n",
    "                wmd.append(wmd_tmp)\n",
    "                wmdo.append(wmdo_tmp)\n",
    "\n",
    "    return wmd, wmdo, score"
   ]
  },
  {
   "cell_type": "code",
   "execution_count": 32,
   "metadata": {},
   "outputs": [],
   "source": [
    "# def compute_WMD_WMDo_alt(sent, tokenizer, model, embed_type):\n",
    "#     wmd = []\n",
    "#     wmdo =[]\n",
    "    \n",
    "#     buckets1 = []\n",
    "#     buckets2 = []\n",
    "#     all_embeddings = []\n",
    "    \n",
    "#     for i in range(len(sent[0])):\n",
    "#         output = embedding_processing(sent[0][i], sent[2][i], tokenizer, model, embed_type) # src - mt\n",
    "# #         embedding_processing(sent[1][i], sent[2][i], tokenizer, model, embed_type) # ref-mt\n",
    "#         buckets1.append(output[0])\n",
    "#         buckets2.append(output[1])\n",
    "#         all_embeddings.append(output[2])\n",
    "        \n",
    "#     for k in range(len(buckets1)):\n",
    "#         prob = word_mover_distance_probspec(buckets1[k], buckets2[k], all_embeddings[k], lpFile=lpFile)\n",
    "#         wmd_tmp = pulp.value(prob.objective)\n",
    "#         wmdo_tmp = fluency_based_wmd(wmd_tmp, sent[0][k], sent[2][k])\n",
    "#         wmd.append(wmd_tmp)\n",
    "#         wmdo.append(wmdo_tmp)\n",
    "\n",
    "#     return wmd, wmdo, sent[3]"
   ]
  },
  {
   "cell_type": "code",
   "execution_count": null,
   "metadata": {},
   "outputs": [],
   "source": []
  },
  {
   "cell_type": "code",
   "execution_count": 33,
   "metadata": {},
   "outputs": [],
   "source": [
    "def evaluation(wmd, wmdo, score):\n",
    "    pearson = stats.pearsonr(wmd, score)\n",
    "    pearson_o = stats.pearsonr(wmdo, score)\n",
    "    spearman = stats.spearmanr(wmd, score)\n",
    "    spearman_o = stats.spearmanr(wmdo, score)\n",
    "    print(\"Spearman Correlation:\", spearman, spearman_o)\n",
    "    print(\"Pearson Correlation:\", pearson, pearson_o)\n",
    "    return pearson, pearson_o, spearman, spearman_o"
   ]
  },
  {
   "cell_type": "code",
   "execution_count": null,
   "metadata": {},
   "outputs": [],
   "source": []
  },
  {
   "cell_type": "code",
   "execution_count": 23,
   "metadata": {},
   "outputs": [],
   "source": [
    "# de-de"
   ]
  },
  {
   "cell_type": "code",
   "execution_count": 54,
   "metadata": {},
   "outputs": [],
   "source": [
    "wmd, wmdo, score = compute_WMD_WMDo(ref_de_sent, mt_de, bert_tokenizer, bert_model, embed_type=2)"
   ]
  },
  {
   "cell_type": "code",
   "execution_count": 128,
   "metadata": {},
   "outputs": [
    {
     "name": "stdout",
     "output_type": "stream",
     "text": [
      "German\n",
      "Average WMD: 11.92350722838354\n",
      "Average WMDo: 11.93565266229737\n",
      "Spearman Correlation: SpearmanrResult(correlation=-0.5264900763599432, pvalue=9.299201394871157e-248) SpearmanrResult(correlation=-0.527825014510426, pvalue=3.116225736984183e-249)\n",
      "Pearson Correlation: (-0.4988590021119278, 1.154527862257958e-218) (-0.5018554701795757, 1.0847530984382924e-221)\n"
     ]
    }
   ],
   "source": [
    "print(\"German\")\n",
    "print(f\"Average WMD: {sum(wmd)/len(wmd)}\")\n",
    "print(f\"Average WMDo: {sum(wmdo)/len(wmdo)}\")\n",
    "_,_,_,_ = evaluation(wmd,wmdo,score)"
   ]
  },
  {
   "cell_type": "code",
   "execution_count": null,
   "metadata": {},
   "outputs": [],
   "source": [
    "German\n",
    "Average WMD: 0.8017151844060595\n",
    "Average WMDo: 0.8138606183198966\n",
    "Spearman Correlation: SpearmanrResult(correlation=-0.510027596930398, pvalue=4.212314562585338e-230) SpearmanrResult(correlation=-0.5219619561321359, pvalue=8.359442710590678e-243)\n",
    "Pearson Correlation: (-0.5097357138311421, 8.489667305524292e-230) (-0.5263318452409809, 1.3893750874154716e-247)\n",
    "    \n",
    "German\n",
    "Average WMD: 0.8451170232446427\n",
    "Average WMDo: 0.8572624571584787\n",
    "Spearman Correlation: SpearmanrResult(correlation=-0.5167822958372177, pvalue=3.143442128396969e-237) SpearmanrResult(correlation=-0.527902437812766, pvalue=2.557939363753482e-249)\n",
    "Pearson Correlation: (-0.5175614221899548, 4.623107333941656e-238) (-0.5331211335090894, 3.7759802184007295e-255)\n",
    "\n",
    "German\n",
    "Average WMD: 11.92350722838354\n",
    "Average WMDo: 11.93565266229737\n",
    "Spearman Correlation: SpearmanrResult(correlation=-0.5264900763599432, pvalue=9.299201394871157e-248) SpearmanrResult(correlation=-0.527825014510426, pvalue=3.116225736984183e-249)\n",
    "Pearson Correlation: (-0.4988590021119278, 1.154527862257958e-218) (-0.5018554701795757, 1.0847530984382924e-221)\n"
   ]
  },
  {
   "cell_type": "code",
   "execution_count": null,
   "metadata": {},
   "outputs": [],
   "source": [
    "# fr-fr"
   ]
  },
  {
   "cell_type": "code",
   "execution_count": 45,
   "metadata": {},
   "outputs": [],
   "source": [
    "wmd, wmdo, score = compute_WMD_WMDo(ref_fr_sent, mt_fr, bert_tokenizer, bert_model, embed_type=1)"
   ]
  },
  {
   "cell_type": "code",
   "execution_count": 46,
   "metadata": {},
   "outputs": [
    {
     "name": "stdout",
     "output_type": "stream",
     "text": [
      "French\n",
      "Average WMD: 0.6042960387747216\n",
      "Average WMDo: 0.5843562557639091\n",
      "Spearman Correlation: SpearmanrResult(correlation=-0.5088781037811415, pvalue=4.238102393698617e-166) SpearmanrResult(correlation=-0.5095276962031406, pvalue=1.3749251885221357e-166)\n",
      "Pearson Correlation: (-0.4513739384178891, 9.4483659745375e-127) (-0.4753943913882638, 2.8100771767595054e-142)\n"
     ]
    }
   ],
   "source": [
    "print(\"French\")\n",
    "print(f\"Average WMD: {sum(wmd)/len(wmd)}\")\n",
    "print(f\"Average WMDo: {sum(wmdo)/len(wmdo)}\")\n",
    "_,_,_,_ = evaluation(wmd, wmdo, score)"
   ]
  },
  {
   "cell_type": "code",
   "execution_count": null,
   "metadata": {},
   "outputs": [],
   "source": []
  },
  {
   "cell_type": "code",
   "execution_count": 26,
   "metadata": {},
   "outputs": [],
   "source": [
    "# wmd, wmdo, score = compute_WMD_WMDo_alt(de_sent, bert_tokenizer, bert_model, embed_type=2)"
   ]
  },
  {
   "cell_type": "code",
   "execution_count": 27,
   "metadata": {},
   "outputs": [],
   "source": [
    "# en-de"
   ]
  },
  {
   "cell_type": "code",
   "execution_count": 39,
   "metadata": {},
   "outputs": [],
   "source": [
    "wmd, wmdo, score = compute_WMD_WMDo(src_sent, mt_de, bert_tokenizer, bert_model, embed_type=2)"
   ]
  },
  {
   "cell_type": "code",
   "execution_count": null,
   "metadata": {},
   "outputs": [],
   "source": [
    "print(\"German\")\n",
    "print(f\"Average WMD: {sum(wmd)/len(wmd)}\")\n",
    "print(f\"Average WMDo: {sum(wmdo)/len(wmdo)}\")\n",
    "_,_,_,_ = evaluation(wmd, wmdo, score)"
   ]
  },
  {
   "cell_type": "code",
   "execution_count": null,
   "metadata": {},
   "outputs": [],
   "source": [
    "German\n",
    "Average WMD: 16.29980031455852\n",
    "Average WMDo: 16.320027543797018\n",
    "Spearman Correlation: SpearmanrResult(correlation=-0.29975434613344154, pvalue=2.927154570831462e-73) SpearmanrResult(correlation=-0.3013927051589536, pvalue=4.4202517417034795e-74)\n",
    "Pearson Correlation: (-0.3005912689344727, 1.116147711745209e-73) (-0.30129563647873175, 4.9458153364140074e-74)\n",
    "\n",
    "German\n",
    "Average WMD: 3.3968153183780254\n",
    "Average WMDo: 3.417042547616439\n",
    "Spearman Correlation: SpearmanrResult(correlation=-0.21422866982477823, pvalue=1.885174503990756e-37) SpearmanrResult(correlation=-0.2145094834367832, pvalue=1.5113773772990689e-37)\n",
    "Pearson Correlation: (-0.2268368401403627, 6.77521079069275e-42) (-"
   ]
  },
  {
   "cell_type": "code",
   "execution_count": null,
   "metadata": {},
   "outputs": [],
   "source": [
    "# en-fr"
   ]
  },
  {
   "cell_type": "code",
   "execution_count": 131,
   "metadata": {},
   "outputs": [],
   "source": [
    "wmd, wmdo, score = compute_WMD_WMDo(src_sent, mt_fr, bert_tokenizer, bert_model, embed_type=2)"
   ]
  },
  {
   "cell_type": "code",
   "execution_count": 132,
   "metadata": {},
   "outputs": [
    {
     "name": "stdout",
     "output_type": "stream",
     "text": [
      "French\n",
      "Average WMD: 15.939521637425933\n",
      "Average WMDo: 15.959814406385354\n",
      "Spearman Correlation: SpearmanrResult(correlation=-0.3107695748544288, pvalue=1.4922483868658528e-57) SpearmanrResult(correlation=-0.3100484209631477, pvalue=2.7908644823368746e-57)\n",
      "Pearson Correlation: (-0.2876862062916148, 3.1962490553298156e-49) (-0.2874546336258672, 3.840393624056795e-49)\n"
     ]
    }
   ],
   "source": [
    "print(\"French\")\n",
    "print(f\"Average WMD: {sum(wmd)/len(wmd)}\")\n",
    "print(f\"Average WMDo: {sum(wmdo)/len(wmdo)}\")\n",
    "_,_,_,_ = evaluation(wmd, wmdo, score)"
   ]
  },
  {
   "cell_type": "code",
   "execution_count": null,
   "metadata": {},
   "outputs": [],
   "source": []
  },
  {
   "cell_type": "code",
   "execution_count": null,
   "metadata": {},
   "outputs": [],
   "source": [
    "German\n",
    "Average WMD: 10.427111590705742\n",
    "Average WMDo: 0.0\n",
    "Spearman Correlation: SpearmanrResult(correlation=-0.29534751301923506, pvalue=4.450031532655668e-71) SpearmanrResult(correlation=nan, pvalue=nan)\n",
    "Pearson Correlation: (-0.27974182361659783, 1.1742674301265787e-63) (nan, nan)\n",
    "    \n",
    "German\n",
    "Average WMD: 17.18350542242003\n",
    "Average WMDo: 0.0\n",
    "Spearman Correlation: SpearmanrResult(correlation=-0.32986204801567076, pvalue=3.242058011986647e-89) SpearmanrResult(correlation=nan, pvalue=nan)\n",
    "Pearson Correlation: (-0.3227679331128431, 2.7421986260577897e-85) (nan, nan)\n",
    "\n",
    "German\n",
    "Average WMD: 17.18350542242003\n",
    "Average WMDo: 0.0\n",
    "Spearman Correlation: SpearmanrResult(correlation=-0.32986204801567076, pvalue=3.242058011986647e-89) SpearmanrResult(correlation=nan, pvalue=nan)\n",
    "Pearson Correlation: (-0.3227679331128431, 2.7421986260577897e-85) (nan, nan)\n",
    "    \n",
    "French\n",
    "Average WMD: 16.294238467579046\n",
    "Average WMDo: 0.0\n",
    "Spearman Correlation: SpearmanrResult(correlation=-0.3395921197358332, pvalue=4.690308677924282e-69) SpearmanrResult(correlation=nan, pvalue=nan)\n",
    "Pearson Correlation: (-0.30687943931248707, 4.2809690344793455e-56) (nan, nan)\n",
    "    \n",
    "German\n",
    "Average WMD: 18.81079347015398\n",
    "Average WMDo: 0.0\n",
    "Spearman Correlation: SpearmanrResult(correlation=-0.3707884378951234, pvalue=5.390859566935439e-114) SpearmanrResult(correlation=nan, pvalue=nan)\n",
    "Pearson Correlation: (-0.3479911991188516, 9.749048459798403e-100) (nan, nan)\n"
   ]
  },
  {
   "cell_type": "code",
   "execution_count": null,
   "metadata": {},
   "outputs": [],
   "source": []
  },
  {
   "cell_type": "markdown",
   "metadata": {},
   "source": [
    "# Plot"
   ]
  },
  {
   "cell_type": "code",
   "execution_count": 96,
   "metadata": {},
   "outputs": [
    {
     "name": "stderr",
     "output_type": "stream",
     "text": [
      "/Users/yurunsong/opt/anaconda3/lib/python3.7/site-packages/ipykernel_launcher.py:3: RuntimeWarning: invalid value encountered in true_divide\n",
      "  This is separate from the ipykernel package so we can avoid doing imports until\n"
     ]
    }
   ],
   "source": [
    "norm_score = np.array(score)/np.sqrt(np.sum(np.array(score)**2))\n",
    "norm_wmd = np.array(wmd)/ np.sqrt(np.sum(np.array(wmd)**2))\n",
    "norm_wmdo = np.array(wmdo)/np.sqrt(np.sum(np.array(wmdo)**2))\n",
    "\n",
    "# wmd = np.array(wmd) - (sum(wmd)/len(wmd))"
   ]
  },
  {
   "cell_type": "code",
   "execution_count": 97,
   "metadata": {},
   "outputs": [
    {
     "data": {
      "image/png": "[encoded data removed]",
      "text/plain": [
       "<Figure size 432x288 with 1 Axes>"
      ]
     },
     "metadata": {
      "needs_background": "light"
     },
     "output_type": "display_data"
    }
   ],
   "source": [
    "# plt.scatter(np.array(score)[:200],wmd[:200])\n",
    "plt.scatter(norm_score,norm_wmd)\n",
    "plt.scatter(norm_score,norm_wmdo)\n",
    "# plt.xlim([-3,3])\n",
    "# plt.ylim([-1.5,1.5])\n",
    "plt.xlabel(\"human score\")\n",
    "plt.ylabel(\"Normalized WMD score\")\n",
    "plt.legend([\"wmd\", \"wmdo\"])\n",
    "plt.grid()"
   ]
  },
  {
   "cell_type": "code",
   "execution_count": null,
   "metadata": {},
   "outputs": [],
   "source": []
  },
  {
   "cell_type": "code",
   "execution_count": 29,
   "metadata": {},
   "outputs": [],
   "source": [
    "# Appendix "
   ]
  },
  {
   "cell_type": "code",
   "execution_count": 30,
   "metadata": {},
   "outputs": [],
   "source": [
    "# def bert_processing(indexed_tokens,segments_ids, model):\n",
    "\n",
    "# #     sentences_embedding = []\n",
    "\n",
    "#     with torch.no_grad():\n",
    "\n",
    "# #         for i in range(len(indexed_tokens)):\n",
    "\n",
    "#         # \"encoded_layers\" has shape [12 x 1 x N x 768]\n",
    "\n",
    "#         encoded_layers, _ = model(indexed_tokens, segments_ids)\n",
    "\n",
    "#         token_embeddings = torch.stack(encoded_layers, dim=0)\n",
    "\n",
    "#         token_embeddings = torch.squeeze(token_embeddings, dim=1)\n",
    "\n",
    "#         token_embeddings = token_embeddings.permute(1,0,2)\n",
    "\n",
    "#         # \"token_embeddings\" has shape [N x 12 x 768]\n",
    "\n",
    "#         token_vecs_sum = []\n",
    "\n",
    "#         for token in token_embeddings:\n",
    "            \n",
    "# #             sum_vec = torch.tensor(gen_mean(token, 4))\n",
    "#             sum_vec = torch.mean(token[-4:], dim=0)\n",
    "\n",
    "#             token_vecs_sum.append(sum_vec)\n",
    "\n",
    "#         # \"token_vecs\" is a tensor with shape [N x 768]\n",
    "        \n",
    "#         token_vecs = torch.stack(token_vecs_sum, dim=0)\n",
    "\n",
    "#     return token_vecs[1:-1,:]"
   ]
  },
  {
   "cell_type": "code",
   "execution_count": 31,
   "metadata": {},
   "outputs": [],
   "source": [
    "# def gen_mean(vals, p):\n",
    "#     p = float(p)\n",
    "#     return np.power(np.mean(np.power(np.array(vals, dtype=np.float32),p),axis=0),1 / p)  \n",
    "\n",
    "\n",
    "# def get_sentence_embedding(sentence, embeddings, chosen_operations):\n",
    "#     word_embeddings = []\n",
    "#     for tok in sentence:\n",
    "#         vec = embeddings.vectors.get(tok)\n",
    "#         if vec is not None:\n",
    "#             word_embeddings.append(vec)\n",
    "\n",
    "#     if not word_embeddings:\n",
    "#         print('No word embeddings for sentence:\\n{}'.format(sentence))\n",
    "#         size = 0\n",
    "#         for o in chosen_operations:\n",
    "#             size += operations[o][1](embeddings.embeddings_dimensionality)\n",
    "#         sentence_embedding = np.zeros(size)\n",
    "#     else:\n",
    "#         concat_embs = []\n",
    "#         for o in chosen_operations:\n",
    "#             concat_embs += operations[o][0](word_embeddings)\n",
    "#         sentence_embedding = np.concatenate(\n",
    "#             concat_embs,\n",
    "#             axis=0\n",
    "#         )\n",
    "\n",
    "#     return sentence_embedding"
   ]
  },
  {
   "cell_type": "code",
   "execution_count": null,
   "metadata": {},
   "outputs": [],
   "source": []
  },
  {
   "cell_type": "code",
   "execution_count": 38,
   "metadata": {},
   "outputs": [],
   "source": [
    "# s1 = 'It is a guide to action which ensures that the military always obeys the commands of the party'\n",
    "# s2 = 'It is a guide to action that ensures that the military will forever heed Party commands'\n",
    "\n",
    "# sent1_buckets, sent2_buckets, embeddings = embedding_processing(s1, s2, bert_tokenizer, bert_model, 2)\n",
    "\n",
    "# print(len(sent1_buckets))\n",
    "# print(len(sent2_buckets))\n",
    "# print(embeddings.size())\n",
    "# print(embeddings)"
   ]
  },
  {
   "cell_type": "code",
   "execution_count": null,
   "metadata": {},
   "outputs": [],
   "source": []
  }
 ],
 "metadata": {
  "kernelspec": {
   "display_name": "Python 3",
   "language": "python",
   "name": "python3"
  },
  "language_info": {
   "codemirror_mode": {
    "name": "ipython",
    "version": 3
   },
   "file_extension": ".py",
   "mimetype": "text/x-python",
   "name": "python",
   "nbconvert_exporter": "python",
   "pygments_lexer": "ipython3",
   "version": "3.7.4"
  }
 },
 "nbformat": 4,
 "nbformat_minor": 2
}
