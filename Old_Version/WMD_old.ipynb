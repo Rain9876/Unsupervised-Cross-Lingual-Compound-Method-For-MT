{
 "cells": [
  {
   "cell_type": "code",
   "execution_count": 1,
   "metadata": {},
   "outputs": [],
   "source": [
    "# -*- coding: utf-8 -*-\n",
    "\n",
    "import json\n",
    "import pickle\n",
    "import os\n",
    "import sys\n",
    "import nltk\n",
    "from nltk.tokenize import word_tokenize \n",
    "\n",
    "# nltk.download('punkt') # Download the tokenizer model\n",
    "# nltk.download('wordnet') # Download the wordnet corpora\n",
    "# nltk.download('stopwords')\n",
    "\n",
    "from nltk import meteor_score\n",
    "from nltk.corpus import stopwords\n",
    "from nltk.stem.snowball import SnowballStemmer\n",
    "from nltk.translate import meteor_score\n",
    "from nltk.translate import bleu_score\n",
    "from collections import defaultdict\n",
    "\n",
    "from itertools import product\n",
    "import scipy\n",
    "from scipy import stats\n",
    "from scipy.spatial.distance import euclidean\n",
    "import pulp\n",
    "import gensim\n",
    "from gensim.models import Word2Vec\n",
    "\n",
    "import numpy as np\n",
    "from pytorch_pretrained_bert import BertTokenizer, BertModel, BertForMaskedLM\n",
    "from torch.autograd import Variable\n",
    "import torch.nn.functional as F\n",
    "import torch\n",
    "import re\n",
    "\n",
    "import matplotlib.pyplot as plt\n",
    "%matplotlib inline"
   ]
  },
  {
   "cell_type": "markdown",
   "metadata": {},
   "source": [
    "# Data Exploration"
   ]
  },
  {
   "cell_type": "code",
   "execution_count": 2,
   "metadata": {},
   "outputs": [],
   "source": [
    "#read all json data\n",
    "data_path = sys.path[0]+\"/human_assessment/\"\n",
    "\n",
    "with open(data_path+'MMTsourcedict.json') as json_file:\n",
    "    src_dict = json.load(json_file)\n",
    "with open(data_path+'MMTgolddict_de.json') as json_file:\n",
    "    ref_de_dict = json.load(json_file)\n",
    "with open(data_path+'MMTtranslationdict_de.json') as json_file:\n",
    "    mt_de_dict = json.load(json_file)\n",
    "with open(data_path+'MMTgolddict_fr.json') as json_file:\n",
    "    ref_fr_dict = json.load(json_file)\n",
    "with open(data_path+'MMTtranslationdict_fr.json') as json_file:\n",
    "    mt_fr_dict = json.load(json_file)"
   ]
  },
  {
   "cell_type": "code",
   "execution_count": 3,
   "metadata": {},
   "outputs": [
    {
     "name": "stdout",
     "output_type": "stream",
     "text": [
      "une photo aérienne d'un paysage d'herbe brunissante avec une sorte de château culminant , et un paysage montagneux à l'horizon .\n",
      "\n",
      "une photo aérienne de seniors et d'une belle structure ressemblant à travers un paysage de montagne dans l'horizon.\n",
      "\n",
      "un paysage de signalisation, regarde de la prairie et une structure ressemblant à une structure à l'intérieur et un paysage de montagne à l'horizon.\n",
      "\n",
      "une photo de paysage aérienne d'une prairie et d'une structure ressemblant à une structure en hauteur et un paysage de montagne à l'horizon.\n",
      "\n",
      "une photo de pêcheurs aérienne de paille et d'une structure brumeuse regarde au loin et un paysage de montagne à l'horizon.\n",
      "\n"
     ]
    }
   ],
   "source": [
    "def clean_up_french(ref_fr_dict, mt_fr_dict):\n",
    "    tmp = ref_fr_dict.items()\n",
    "    for key, value in tmp:\n",
    "        new_val = re.sub(r\"&\\w+;\\s\",\"'\",value)\n",
    "        ref_fr_dict[key] = new_val\n",
    "\n",
    "    tmp = mt_fr_dict.items()\n",
    "    for key, value in tmp:\n",
    "            new_val = [[re.sub(r\"&\\w+;\\s\",\"'\",item[0]),item[1]]for item in value]\n",
    "            mt_fr_dict[key] = new_val\n",
    "    return ref_fr_dict, mt_fr_dict\n",
    "    \n",
    "    \n",
    "    \n",
    "ref_fr_dict, mt_fr_dict = clean_up_french(ref_fr_dict, mt_fr_dict)\n",
    "    \n",
    "# print(ref_fr_dict[\"30167206992.jpg\"])\n",
    "# print(mt_fr_dict[\"30167206992.jpg\"])\n",
    "\n",
    "print(ref_fr_dict[\"27124904596.jpg\"])\n",
    "print()\n",
    "for i in mt_fr_dict[\"27124904596.jpg\"]:\n",
    "    print(i[0]+\"\\n\")"
   ]
  },
  {
   "cell_type": "code",
   "execution_count": 4,
   "metadata": {},
   "outputs": [
    {
     "name": "stdout",
     "output_type": "stream",
     "text": [
      "1000\n",
      "1000\n"
     ]
    }
   ],
   "source": [
    "# matching image id for src sent, ref sent, translation sent\n",
    "\n",
    "## Sorting if necessary\n",
    "# sorted_src_dict = {key: value for key, value in sorted(src_dict.items(), key=lambda item: item[0])}\n",
    "# ref_de_dict = {key: value for key, value in sorted(ref_de_dict.items(), key=lambda item: item[0])}\n",
    "# score_de_dict = {key: value for key, value in sorted(score_de_dict.items(), key=lambda item: item[0])}\n",
    "\n",
    "de_match = {}\n",
    "assert len(src_dict) == len(ref_de_dict)\n",
    "for src_id in src_dict:\n",
    "    if src_id in mt_de_dict and src_id in ref_de_dict:\n",
    "         de_match[src_id] = [src_dict[src_id], ref_de_dict[src_id], mt_de_dict[src_id]]\n",
    "    else:\n",
    "        de_match[src_id] = [src_dict[src_id], ref_de_dict[src_id], []] # Assign empty list for Non-score sentences\n",
    "print(len(de_match))\n",
    "\n",
    "\n",
    "fr_match = {}\n",
    "assert len(src_dict) == len(ref_fr_dict)\n",
    "for src_id in src_dict:\n",
    "    if src_id in mt_fr_dict and src_id in ref_fr_dict:\n",
    "         fr_match[src_id] = [src_dict[src_id], ref_fr_dict[src_id], mt_fr_dict[src_id]]\n",
    "    else:\n",
    "        fr_match[src_id] = [src_dict[src_id], ref_fr_dict[src_id], []]\n",
    "print(len(fr_match))"
   ]
  },
  {
   "cell_type": "code",
   "execution_count": 5,
   "metadata": {},
   "outputs": [],
   "source": [
    "#extract all sentence data from dictionaries\n",
    "\n",
    "#1. source sentences in English\n",
    "src_sent = [item[0] for item in de_match.values()]\n",
    "\n",
    "#2. reference German sentences\n",
    "ref_de_sent = [item[1] for item in de_match.values()]\n",
    "\n",
    "#3. reference french sentences\n",
    "ref_fr_sent = [item[1] for item in fr_match.values()]\n",
    "\n",
    "#4. translation score on German sentences\n",
    "mt_de = [item[2] for item in de_match.values()]\n",
    "        \n",
    "#5. translation score on French sentences\n",
    "mt_fr = [item[2] for item in fr_match.values()]\n"
   ]
  },
  {
   "cell_type": "code",
   "execution_count": 6,
   "metadata": {},
   "outputs": [],
   "source": [
    "# Assert fr, de source order are the same\n",
    "assert list(fr_match.keys()) == list(de_match.keys())"
   ]
  },
  {
   "cell_type": "code",
   "execution_count": 7,
   "metadata": {},
   "outputs": [],
   "source": [
    "#sentence preprocessing on source sentences\n",
    "# {img_id: [preprocessed tokens ... ]}\n",
    "\n",
    "def data_processing(src_sents, tokenizer, stop_words=None, MT=False):    \n",
    "    token_sents = []\n",
    "    \n",
    "    for i in range(len(src_sents)): \n",
    "        if MT: \n",
    "            sent = src_sents[i][0]\n",
    "        else:\n",
    "            sent = src_sents[i]\n",
    "            \n",
    "#         sent = sent.lower() \n",
    "        word_list = tokenizer.tokenize(sent) # Tokenizer\n",
    "#       word_list = [w for w in word_list if not w in stop_words] # stop words removal\n",
    "#         word_list = [w for w in word_list if w.isalnum()] # punct_filtered\n",
    "\n",
    "        #stemming\n",
    "        # stemmer = SnowballStemmer('english')\n",
    "        # sentence_stemmed = []\n",
    "        # for token in punct_filtered:\n",
    "        #     sentence_stemmed.append(stemmer.stem(token))\n",
    "        \n",
    "        if MT: \n",
    "            token_sents.append([word_list, src_sents[i][1]])\n",
    "        else:    \n",
    "            token_sents.append(word_list)\n",
    " \n",
    "    return token_sents"
   ]
  },
  {
   "cell_type": "code",
   "execution_count": 8,
   "metadata": {},
   "outputs": [],
   "source": [
    "# stop_words = stopwords.words('english')\n",
    "\n",
    "bert_tokenizer = BertTokenizer.from_pretrained('bert-base-multilingual-cased',do_lower_case=False)\n",
    "\n",
    "img_ids = list(src_dict.keys())\n",
    "\n",
    "src_tokens= {idx: val for idx, val in zip(img_ids, data_processing(src_sent, bert_tokenizer))}\n",
    "ref_de_tokens = {idx: val for idx, val in zip(img_ids, data_processing(ref_de_sent, bert_tokenizer))}\n",
    "ref_fr_tokens = {idx: val for idx, val in zip(img_ids, data_processing(ref_fr_sent, bert_tokenizer))}\n",
    "\n",
    "mt_fr_tokens = {idx:data_processing(fr_sent, bert_tokenizer, MT=True) for idx, fr_sent in zip(img_ids,mt_fr)}\n",
    "mt_de_tokens = {idx:data_processing(de_sent, bert_tokenizer, MT=True) for idx, de_sent in zip(img_ids, mt_de)}\n"
   ]
  },
  {
   "cell_type": "code",
   "execution_count": 9,
   "metadata": {},
   "outputs": [
    {
     "name": "stdout",
     "output_type": "stream",
     "text": [
      "Image id: 25622467670.jpg\n",
      "\n",
      "Original source sentence:\n",
      "privately owned poster and restaurant poster\n",
      "\n",
      "Tokenized source sentence:\n",
      "['privately', 'owned', 'poster', 'and', 'restaurant', 'poster']\n",
      "\n",
      "Original reference German sentence:\n",
      "schild für privatbesitz und schild eines restaurants\n",
      "\n",
      "Tokenized reference German sentence:\n",
      "['s', '##child', 'für', 'privat', '##besitz', 'und', 's', '##child', 'eines', 'restaurants']\n",
      "\n",
      "Original reference French sentence:\n",
      "une pancarte 'propriété privée 'et un panneau pour un restaurant\n",
      "\n",
      "Tokenized reference French sentence:\n",
      "['une', 'pan', '##car', '##te', \"'\", 'propriété', 'privée', \"'\", 'et', 'un', 'pan', '##neau', 'pour', 'un', 'restaurant']\n",
      "\n",
      "[['une affiche aveuse et un restaurant .', -1.60627323003466], ['une maison apprenant à une affiche de restaurant et une affiche de restaurant', -0.351114913586192], ['une affiche et des', -1.60795922940204]]\n",
      "[[['une', 'affiche', 'ave', '##use', 'et', 'un', 'restaurant', '.'], -1.60627323003466], [['une', 'maison', 'app', '##rena', '##nt', 'à', 'une', 'affiche', 'de', 'restaurant', 'et', 'une', 'affiche', 'de', 'restaurant'], -0.351114913586192], [['une', 'affiche', 'et', 'des'], -1.60795922940204]]\n"
     ]
    }
   ],
   "source": [
    "### Test\n",
    "\n",
    "i = 30\n",
    "img_id = img_ids[i]\n",
    "print(f\"Image id: {img_id}\\n\")\n",
    "print(f\"Original source sentence:\\n{src_sent[i]}\\n\")\n",
    "print(f\"Tokenized source sentence:\\n{src_tokens[img_id]}\\n\")\n",
    "print(f\"Original reference German sentence:\\n{ref_de_sent[i]}\\n\")\n",
    "print(f\"Tokenized reference German sentence:\\n{ref_de_tokens[img_id]}\\n\")\n",
    "print(f\"Original reference French sentence:\\n{ref_fr_sent[i]}\\n\")\n",
    "print(f\"Tokenized reference French sentence:\\n{ref_fr_tokens[img_id]}\\n\")\n",
    "\n",
    "print(mt_fr[i])\n",
    "print(mt_fr_tokens[img_id])\n",
    "\n",
    "\n",
    "for i in range(len(src_sent)):\n",
    "    assert src_sent[i] == src_dict[img_ids[i]]\n",
    "    assert ref_fr_sent[i] == ref_fr_dict[img_ids[i]]\n",
    "    if len(mt_fr[i]) > 0:\n",
    "        assert mt_fr[i] == mt_fr_dict[img_ids[i]]        "
   ]
  },
  {
   "cell_type": "code",
   "execution_count": 10,
   "metadata": {},
   "outputs": [],
   "source": [
    "# s = \"ein schwarz-weiß-foto eines hundes , der nach vorn blickt , mit einem hintergrund aus schildern in einer asiatischen sprache .\"\n",
    "# print(bert_tokenizer.tokenize(s))\n",
    "# s = \"une photo noire et blanc d&apos; un chien regardant devant un chien de panneaux en arrière @-@ plan .\"\n",
    "# print(bert_tokenizer.tokenize(s))"
   ]
  },
  {
   "cell_type": "code",
   "execution_count": 11,
   "metadata": {},
   "outputs": [],
   "source": [
    "# import re"
   ]
  },
  {
   "cell_type": "code",
   "execution_count": 12,
   "metadata": {},
   "outputs": [],
   "source": [
    "# k =0\n",
    "# for i in ref_fr_sent[:100]:\n",
    "#     print(k)\n",
    "#     r1 = re.findall(r\"&\\w+;\",i)\n",
    "#     if len(r1)>0:\n",
    "#         print(r1)\n",
    "#     k+=1"
   ]
  },
  {
   "cell_type": "code",
   "execution_count": 13,
   "metadata": {},
   "outputs": [],
   "source": [
    "# s = \"un lac paisible entouré d&apos; arbres et des rochers .\"\n",
    "# r1 = re.sub(r\"&\\w+;\\s\",\"'\",s)\n",
    "# print(r1)"
   ]
  },
  {
   "cell_type": "code",
   "execution_count": null,
   "metadata": {},
   "outputs": [],
   "source": []
  },
  {
   "cell_type": "markdown",
   "metadata": {},
   "source": [
    "# WMD with Bert embedding"
   ]
  },
  {
   "cell_type": "code",
   "execution_count": 14,
   "metadata": {},
   "outputs": [
    {
     "name": "stdout",
     "output_type": "stream",
     "text": [
      "Device: cpu\n",
      "Using GPU: False\n"
     ]
    }
   ],
   "source": [
    "use_GPU = torch.cuda.is_available()\n",
    "device = torch.device(\"cuda\" if use_GPU else \"cpu\")\n",
    "print('Device: ' + str(device))\n",
    "if use_GPU:\n",
    "    torch.cuda.manual_seed(0)\n",
    "    print('GPU: ' + str(torch.cuda.get_device_name(int(\"0\")))) \n",
    "print(\"Using GPU: {}\".format(use_GPU))"
   ]
  },
  {
   "cell_type": "code",
   "execution_count": 15,
   "metadata": {},
   "outputs": [
    {
     "name": "stdout",
     "output_type": "stream",
     "text": [
      "\n"
     ]
    }
   ],
   "source": [
    "bert_tokenizer = BertTokenizer.from_pretrained('bert-base-multilingual-cased',do_lower_case=False)\n",
    "model = BertModel.from_pretrained('bert-base-multilingual-cased')\n",
    "model.eval()\n",
    "print()"
   ]
  },
  {
   "cell_type": "code",
   "execution_count": 16,
   "metadata": {},
   "outputs": [],
   "source": [
    "# def bert_tokenization(txt, tokenizer):\n",
    "\n",
    "# #     indexed_tokens = []\n",
    "# #     tokenized_text = []\n",
    "# #     segments_ids = []\n",
    "\n",
    "# #     for i in range(len(marked_text_en)):\n",
    "\n",
    "# #         txt = \"[CLS] \"+ marked_text_en[i] +\" [SEP] \" + marked_text_zh[i] + \" [SEP]\"\n",
    "# #         tokens = tokenizer.tokenize(txt)\n",
    "\n",
    "# #         tmp = tokens.index(\"[SEP]\")\n",
    "# #         sep1 = [0]*(tmp+1)\n",
    "# #         sep2 = [1]*(len(tokens)-tmp - 1)\n",
    "# #         segments_ids.append(torch.tensor([sep1+sep2]))\n",
    "\n",
    "# #         tokenized_text.append(tokens)\n",
    "# #         indexed_tokens.append(torch.tensor([tokenizer.convert_tokens_to_ids(tokens)]))\n",
    "\n",
    "#     raw_tokens = []\n",
    "#     indexed_tokens = []\n",
    "#     segments_ids = []\n",
    "    \n",
    "#     for sent in txt:\n",
    "#         raw = tokenizer.tokenize(sent)\n",
    "#         tokens = [\"[CLS]\"] + raw\n",
    "#         raw_tokens.append(raw)\n",
    "#         indexed_tokens.append(torch.tensor(tokenizer.convert_tokens_to_ids(tokens)).unsqueeze(0))\n",
    "#         segments_ids.append(torch.tensor([0]*len(tokens)).unsqueeze(0))\n",
    "\n",
    "#     return raw_tokens, indexed_tokens, segments_ids "
   ]
  },
  {
   "cell_type": "code",
   "execution_count": 17,
   "metadata": {},
   "outputs": [],
   "source": [
    "# def bertProcessing(indexed_tokens,segments_ids, model):\n",
    "\n",
    "#     sentences_embedding = []\n",
    "\n",
    "#     with torch.no_grad():\n",
    "\n",
    "#         for i in range(len(indexed_tokens)):\n",
    "\n",
    "#             # \"encoded_layers\" has shape [12 x 1 x N x 768]\n",
    "\n",
    "#             encoded_layers, _ = model(indexed_tokens[i], segments_ids[i])\n",
    "\n",
    "#             token_embeddings = torch.stack(encoded_layers, dim=0)\n",
    "\n",
    "#             token_embeddings = torch.squeeze(token_embeddings, dim=1)\n",
    "\n",
    "#             token_embeddings = token_embeddings.permute(1,0,2)\n",
    "\n",
    "#             # \"token_embeddings\" has shape [N x 12 x 768]\n",
    "\n",
    "#             token_vecs_sum = []\n",
    "\n",
    "#             for token in token_embeddings:\n",
    "                \n",
    "#                 sum_vec = torch.sum(token[-4:],dim=0)\n",
    "#                 token_vecs_sum.append(sum_vec)\n",
    "\n",
    "#             # \"token_vecs\" is a tensor with shape [N x 768]\n",
    "#             token_vecs = torch.stack(token_vecs_sum,dim=0)\n",
    "\n",
    "#             sentences_embedding.append(token_vecs.cpu().detach().numpy())\n",
    "#                 # Calculate the average of all N token vectors.        \n",
    "# #                 sentence_embedding = torch.mean(token_vecs, dim=0)\n",
    "# #                 sentences_embedding.append(sentence_embedding.cpu().detach().numpy())\n",
    "# #             print(len(token_vecs_sum))\n",
    "            \n",
    "# #     return np.array(sentences_embedding, dtype=np.float32)\n",
    "#     return sentences_embedding"
   ]
  },
  {
   "cell_type": "code",
   "execution_count": 16,
   "metadata": {},
   "outputs": [],
   "source": [
    "def bert_tokenization(txt, tokenizer):\n",
    "    \n",
    "    tokens = tokenizer.tokenize(\"[CLS] \" + txt+ \" [SEP]\")\n",
    "    \n",
    "    indexed_tokens= torch.tensor(tokenizer.convert_tokens_to_ids(tokens)).unsqueeze(0)\n",
    "    segments_ids = torch.tensor([0]*len(tokens)).unsqueeze(0)\n",
    "\n",
    "    return tokens[1:-1], indexed_tokens, segments_ids "
   ]
  },
  {
   "cell_type": "code",
   "execution_count": 227,
   "metadata": {},
   "outputs": [],
   "source": [
    "def bert_processing(indexed_tokens,segments_ids, model):\n",
    "\n",
    "#     sentences_embedding = []\n",
    "\n",
    "    with torch.no_grad():\n",
    "\n",
    "#         for i in range(len(indexed_tokens)):\n",
    "\n",
    "        # \"encoded_layers\" has shape [12 x 1 x N x 768]\n",
    "\n",
    "        encoded_layers, _ = model(indexed_tokens, segments_ids)\n",
    "\n",
    "        token_embeddings = torch.stack(encoded_layers, dim=0)\n",
    "\n",
    "        token_embeddings = torch.squeeze(token_embeddings, dim=1)\n",
    "\n",
    "        token_embeddings = token_embeddings.permute(1,0,2)\n",
    "\n",
    "        # \"token_embeddings\" has shape [N x 12 x 768]\n",
    "\n",
    "        token_vecs_sum = []\n",
    "\n",
    "        for token in token_embeddings:\n",
    "#             sum_vec = torch.tensor(token[-1,:])\n",
    "#             sum_vec = torch.tensor(gen_mean(token, 1))\n",
    "#             sum_vec = torch.mean(token[-5:,], dim=0)\n",
    "            sum_vec = get_layer_embedding(token[-5:,], [\"min\",\"mean\",\"max\"])\n",
    "            token_vecs_sum.append(sum_vec)\n",
    "\n",
    "        # \"token_vecs\" is a tensor with shape [N x 768]\n",
    "        \n",
    "        token_vecs = torch.stack(token_vecs_sum, dim=0)\n",
    "\n",
    "#         sentences_embedding.append(token_vecs.cpu().detach().numpy())\n",
    "\n",
    "            # Calculate the average of all N token vectors.        \n",
    "#                 sentence_embedding = torch.mean(token_vecs, dim=0)\n",
    "#                 sentences_embedding.append(sentence_embedding.cpu().detach().numpy())\n",
    "#             print(len(token_vecs_sum))\n",
    "\n",
    "#     return np.array(sentences_embedding, dtype=np.float32)\n",
    "    return token_vecs[1:-1,:]\n",
    "#     return encoded_layers[-1].squeeze(0)[1:-1,:]\n",
    "#     return token_embeddings[1:-1,:,:]"
   ]
  },
  {
   "cell_type": "code",
   "execution_count": 228,
   "metadata": {},
   "outputs": [],
   "source": [
    "def gen_mean(vals, p):\n",
    "    p = float(p)\n",
    "    return torch.pow(torch.mean(torch.pow(torch.tensor(vals),p),dim=0),1 / p)   \n",
    "\n",
    "operations = dict([\n",
    "    ('mean', (lambda word_embeddings: [torch.mean(word_embeddings, dim=0)], lambda embeddings_size: embeddings_size)),\n",
    "    ('max', (lambda word_embeddings: torch.max(word_embeddings, dim=0), lambda embeddings_size: embeddings_size)),\n",
    "    ('min', (lambda word_embeddings: torch.min(word_embeddings, dim=0), lambda embeddings_size: embeddings_size)),\n",
    "    ('p_mean_2', (lambda word_embeddings: [gen_mean(word_embeddings, p=2.0)], lambda embeddings_size: embeddings_size)),\n",
    "    ('p_mean_3', (lambda word_embeddings: [gen_mean(word_embeddings, p=3.0)], lambda embeddings_size: embeddings_size)),\n",
    "])\n",
    "\n",
    "\n",
    "def get_layer_embedding(word_embeddings, chosen_operations):\n",
    "\n",
    "    concat_embs = []\n",
    "    for o in chosen_operations:\n",
    "        concat_embs += operations[o][0](word_embeddings)\n",
    "        \n",
    "    layer_embedding = np.concatenate(\n",
    "        concat_embs,\n",
    "        axis=0\n",
    "    )\n",
    "\n",
    "    return torch.tensor(layer_embedding)"
   ]
  },
  {
   "cell_type": "code",
   "execution_count": 229,
   "metadata": {},
   "outputs": [
    {
     "name": "stdout",
     "output_type": "stream",
     "text": [
      "torch.Size([35, 3840])\n"
     ]
    }
   ],
   "source": [
    "ref_tokens, ref_id, ref_seg = bert_tokenization(ref_de_sent[0], bert_tokenizer)\n",
    "output = bert_processing(ref_id, ref_seg, model)\n",
    "print(output.size())\n",
    "\n",
    "# embed = get_layer_embedding(output[0],[\"min\",\"mean\",\"max\"])\n",
    "# print(embed.size())"
   ]
  },
  {
   "cell_type": "code",
   "execution_count": 168,
   "metadata": {},
   "outputs": [
    {
     "name": "stdout",
     "output_type": "stream",
     "text": [
      "ein schlanker gelblicher hund beim absolvieren eines hindernislaufs , der in einem bereich mit nacktem erdboden aufgebaut ist\n",
      "['ein', 's', '##ch', '##lank', '##er', 'gel', '##bliche', '##r', 'hun', '##d', 'beim', 'ab', '##sol', '##vieren', 'eines', 'hin', '##dern', '##is', '##lauf', '##s', ',', 'der', 'in', 'einem', 'bere', '##ich', 'mit', 'na', '##ckte', '##m', 'er', '##d', '##boden', 'aufgebaut', 'ist']\n",
      "35\n",
      "torch.Size([35, 12, 768])\n"
     ]
    },
    {
     "name": "stderr",
     "output_type": "stream",
     "text": [
      "/Users/yurunsong/opt/anaconda3/lib/python3.7/site-packages/ipykernel_launcher.py:3: UserWarning: To copy construct from a tensor, it is recommended to use sourceTensor.clone().detach() or sourceTensor.clone().detach().requires_grad_(True), rather than torch.tensor(sourceTensor).\n",
      "  This is separate from the ipykernel package so we can avoid doing imports until\n",
      "/Users/yurunsong/opt/anaconda3/lib/python3.7/site-packages/ipykernel_launcher.py:25: UserWarning: To copy construct from a tensor, it is recommended to use sourceTensor.clone().detach() or sourceTensor.clone().detach().requires_grad_(True), rather than torch.tensor(sourceTensor).\n"
     ]
    }
   ],
   "source": [
    "# ref_tokens, ref_id, ref_seg = bert_tokenization(ref_de_sent[0], bert_tokenizer)\n",
    "# output = bert_processing(ref_id, ref_seg, model)\n",
    "# print(len(ref_tokens))\n",
    "# print(output)\n",
    "# out = model.embeddings.word_embeddings(ref_id)\n",
    "# print(out)\n",
    "# wordvecs = {token: embedding.detach().numpy() for token, embedding in zip(ref_tokens, output[1:,:])}\n",
    "# # print(wordvecs['ein'])\n",
    "\n",
    "ref_tokens, ref_id, ref_seg = bert_tokenization(ref_de_sent[0], bert_tokenizer)\n",
    "output = bert_processing(ref_id, ref_seg, model)\n",
    "    \n",
    "print(ref_de_sent[0])\n",
    "print(ref_tokens)\n",
    "print(len(ref_tokens))\n",
    "print(output.size())"
   ]
  },
  {
   "cell_type": "code",
   "execution_count": 118,
   "metadata": {},
   "outputs": [
    {
     "name": "stdout",
     "output_type": "stream",
     "text": [
      "22\n",
      "20\n",
      "torch.Size([42, 768])\n",
      "tensor([[-0.1536, -0.0189,  0.2071,  ...,  1.1515,  0.8207, -0.6571],\n",
      "        [ 0.2179,  0.1744, -0.6390,  ...,  1.0593,  0.7526, -0.2311],\n",
      "        [ 0.4040, -0.0304, -0.5294,  ...,  1.3307,  0.8977, -0.4279],\n",
      "        ...,\n",
      "        [ 0.0501, -0.3016,  0.3218,  ...,  0.4733,  0.2745,  0.6326],\n",
      "        [-0.1850, -0.3029, -0.1762,  ...,  0.4389,  0.6060,  0.6113],\n",
      "        [-0.3669, -0.5658,  1.0363,  ...,  0.1708,  0.5354,  0.2067]])\n"
     ]
    }
   ],
   "source": [
    "# s1 = 'It is a guide to action which ensures that the military always obeys the commands of the party'\n",
    "# s2 = 'It is a guide to action that ensures that the military will forever heed Party commands'\n",
    "\n",
    "# first_sent_tokens, first_id, first_seg  = bert_tokenization(s1, bert_tokenizer)\n",
    "# second_sent_tokens, second_id, second_seg = bert_tokenization(s2, bert_tokenizer)\n",
    "\n",
    "# first_sent_buckets = tokens_to_fracdict_contextual(first_sent_tokens)\n",
    "# second_sent_buckets = tokens_to_fracdict_contextual(second_sent_tokens)\n",
    "\n",
    "# first_sent_embedding = bert_processing(first_id, first_seg, model)\n",
    "# second_sent_embedding = bert_processing(second_id, second_seg, model)\n",
    "\n",
    "# all_embedding = torch.cat([first_sent_embedding, second_sent_embedding])\n",
    "\n",
    "# assert len(first_sent_buckets) + len(second_sent_buckets) == all_embedding.size()[0]\n",
    "# print(len(first_sent_buckets))\n",
    "# print(len(second_sent_buckets))\n",
    "# print(all_embedding.size())\n",
    "# print(all_embedding)"
   ]
  },
  {
   "cell_type": "code",
   "execution_count": null,
   "metadata": {},
   "outputs": [],
   "source": []
  },
  {
   "cell_type": "code",
   "execution_count": 45,
   "metadata": {},
   "outputs": [],
   "source": [
    "# -*- coding: utf-8 -*-\n",
    "# Natural Language Toolkit: Machine Translation\n",
    "#\n",
    "# Copyright (C) 2001-2020 NLTK Project\n",
    "# Author: Uday Krishna <udaykrishna5@gmail.com>\n",
    "# URL: <http://nltk.org/>\n",
    "# For license information, see LICENSE.TXT\n",
    "\n",
    "\n",
    "from nltk.stem.porter import PorterStemmer\n",
    "from nltk.corpus import wordnet\n",
    "from itertools import chain, product\n",
    "\n",
    "def _generate_enums(hypothesis, reference, preprocess=str.lower):\n",
    "    \"\"\"\n",
    "    Takes in string inputs for hypothesis and reference and returns\n",
    "    enumerated word lists for each of them\n",
    "\n",
    "    :param hypothesis: hypothesis string\n",
    "    :type hypothesis: str\n",
    "    :param reference: reference string\n",
    "    :type reference: str\n",
    "    :preprocess: preprocessing method (default str.lower)\n",
    "    :type preprocess: method\n",
    "    :return: enumerated words list\n",
    "    :rtype: list of 2D tuples, list of 2D tuples\n",
    "    \"\"\"\n",
    "    hypothesis_list = list(enumerate(preprocess(hypothesis).split()))\n",
    "    reference_list = list(enumerate(preprocess(reference).split()))\n",
    "    return hypothesis_list, reference_list\n",
    "\n",
    "\n",
    "def exact_match(hypothesis, reference):\n",
    "    \"\"\"\n",
    "    matches exact words in hypothesis and reference\n",
    "    and returns a word mapping based on the enumerated\n",
    "    word id between hypothesis and reference\n",
    "\n",
    "    :param hypothesis: hypothesis string\n",
    "    :type hypothesis: str\n",
    "    :param reference: reference string\n",
    "    :type reference: str\n",
    "    :return: enumerated matched tuples, enumerated unmatched hypothesis tuples,\n",
    "             enumerated unmatched reference tuples\n",
    "    :rtype: list of 2D tuples, list of 2D tuples,  list of 2D tuples\n",
    "    \"\"\"\n",
    "    hypothesis_list, reference_list = _generate_enums(hypothesis, reference)\n",
    "    return _match_enums(hypothesis_list, reference_list)\n",
    "\n",
    "\n",
    "\n",
    "def _match_enums(enum_hypothesis_list, enum_reference_list):\n",
    "    \"\"\"\n",
    "    matches exact words in hypothesis and reference and returns\n",
    "    a word mapping between enum_hypothesis_list and enum_reference_list\n",
    "    based on the enumerated word id.\n",
    "\n",
    "    :param enum_hypothesis_list: enumerated hypothesis list\n",
    "    :type enum_hypothesis_list: list of tuples\n",
    "    :param enum_reference_list: enumerated reference list\n",
    "    :type enum_reference_list: list of 2D tuples\n",
    "    :return: enumerated matched tuples, enumerated unmatched hypothesis tuples,\n",
    "             enumerated unmatched reference tuples\n",
    "    :rtype: list of 2D tuples, list of 2D tuples,  list of 2D tuples\n",
    "    \"\"\"\n",
    "    word_match = []\n",
    "    for i in range(len(enum_hypothesis_list))[::-1]:\n",
    "        for j in range(len(enum_reference_list))[::-1]:\n",
    "            if enum_hypothesis_list[i][1] == enum_reference_list[j][1]:\n",
    "                word_match.append(\n",
    "                    (enum_hypothesis_list[i][0], enum_reference_list[j][0])\n",
    "                )\n",
    "                (enum_hypothesis_list.pop(i)[1], enum_reference_list.pop(j)[1])\n",
    "                break\n",
    "    return word_match, enum_hypothesis_list, enum_reference_list\n",
    "\n",
    "\n",
    "def _enum_stem_match(\n",
    "    enum_hypothesis_list, enum_reference_list, stemmer=PorterStemmer()\n",
    "):\n",
    "    \"\"\"\n",
    "    Stems each word and matches them in hypothesis and reference\n",
    "    and returns a word mapping between enum_hypothesis_list and\n",
    "    enum_reference_list based on the enumerated word id. The function also\n",
    "    returns a enumerated list of unmatched words for hypothesis and reference.\n",
    "\n",
    "    :param enum_hypothesis_list:\n",
    "    :type enum_hypothesis_list:\n",
    "    :param enum_reference_list:\n",
    "    :type enum_reference_list:\n",
    "    :param stemmer: nltk.stem.api.StemmerI object (default PorterStemmer())\n",
    "    :type stemmer: nltk.stem.api.StemmerI or any class that implements a stem method\n",
    "    :return: enumerated matched tuples, enumerated unmatched hypothesis tuples,\n",
    "             enumerated unmatched reference tuples\n",
    "    :rtype: list of 2D tuples, list of 2D tuples,  list of 2D tuples\n",
    "    \"\"\"\n",
    "    stemmed_enum_list1 = [\n",
    "        (word_pair[0], stemmer.stem(word_pair[1])) for word_pair in enum_hypothesis_list\n",
    "    ]\n",
    "\n",
    "    stemmed_enum_list2 = [\n",
    "        (word_pair[0], stemmer.stem(word_pair[1])) for word_pair in enum_reference_list\n",
    "    ]\n",
    "\n",
    "    word_match, enum_unmat_hypo_list, enum_unmat_ref_list = _match_enums(\n",
    "        stemmed_enum_list1, stemmed_enum_list2\n",
    "    )\n",
    "\n",
    "    enum_unmat_hypo_list = (\n",
    "        list(zip(*enum_unmat_hypo_list)) if len(enum_unmat_hypo_list) > 0 else []\n",
    "    )\n",
    "\n",
    "    enum_unmat_ref_list = (\n",
    "        list(zip(*enum_unmat_ref_list)) if len(enum_unmat_ref_list) > 0 else []\n",
    "    )\n",
    "\n",
    "    enum_hypothesis_list = list(\n",
    "        filter(lambda x: x[0] not in enum_unmat_hypo_list, enum_hypothesis_list)\n",
    "    )\n",
    "\n",
    "    enum_reference_list = list(\n",
    "        filter(lambda x: x[0] not in enum_unmat_ref_list, enum_reference_list)\n",
    "    )\n",
    "\n",
    "    return word_match, enum_hypothesis_list, enum_reference_list\n",
    "\n",
    "\n",
    "def stem_match(hypothesis, reference, stemmer=PorterStemmer()):\n",
    "    \"\"\"\n",
    "    Stems each word and matches them in hypothesis and reference\n",
    "    and returns a word mapping between hypothesis and reference\n",
    "\n",
    "    :param hypothesis:\n",
    "    :type hypothesis:\n",
    "    :param reference:\n",
    "    :type reference:\n",
    "    :param stemmer: nltk.stem.api.StemmerI object (default PorterStemmer())\n",
    "    :type stemmer: nltk.stem.api.StemmerI or any class that\n",
    "                   implements a stem method\n",
    "    :return: enumerated matched tuples, enumerated unmatched hypothesis tuples,\n",
    "             enumerated unmatched reference tuples\n",
    "    :rtype: list of 2D tuples, list of 2D tuples,  list of 2D tuples\n",
    "    \"\"\"\n",
    "    enum_hypothesis_list, enum_reference_list = _generate_enums(hypothesis, reference)\n",
    "    return _enum_stem_match(enum_hypothesis_list, enum_reference_list, stemmer=stemmer)\n",
    "\n",
    "\n",
    "\n",
    "def _enum_wordnetsyn_match(enum_hypothesis_list, enum_reference_list, wordnet=wordnet):\n",
    "    \"\"\"\n",
    "    Matches each word in reference to a word in hypothesis\n",
    "    if any synonym of a hypothesis word is the exact match\n",
    "    to the reference word.\n",
    "\n",
    "    :param enum_hypothesis_list: enumerated hypothesis list\n",
    "    :param enum_reference_list: enumerated reference list\n",
    "    :param wordnet: a wordnet corpus reader object (default nltk.corpus.wordnet)\n",
    "    :type wordnet: WordNetCorpusReader\n",
    "    :return: list of matched tuples, unmatched hypothesis list, unmatched reference list\n",
    "    :rtype:  list of tuples, list of tuples, list of tuples\n",
    "\n",
    "    \"\"\"\n",
    "    word_match = []\n",
    "    for i in range(len(enum_hypothesis_list))[::-1]:\n",
    "        hypothesis_syns = set(\n",
    "            chain(\n",
    "                *[\n",
    "                    [\n",
    "                        lemma.name()\n",
    "                        for lemma in synset.lemmas()\n",
    "                        if lemma.name().find(\"_\") < 0\n",
    "                    ]\n",
    "                    for synset in wordnet.synsets(enum_hypothesis_list[i][1])\n",
    "                ]\n",
    "            )\n",
    "        ).union({enum_hypothesis_list[i][1]})\n",
    "        for j in range(len(enum_reference_list))[::-1]:\n",
    "            if enum_reference_list[j][1] in hypothesis_syns:\n",
    "                word_match.append(\n",
    "                    (enum_hypothesis_list[i][0], enum_reference_list[j][0])\n",
    "                )\n",
    "                enum_hypothesis_list.pop(i), enum_reference_list.pop(j)\n",
    "                break\n",
    "    return word_match, enum_hypothesis_list, enum_reference_list\n",
    "\n",
    "\n",
    "def wordnetsyn_match(hypothesis, reference, wordnet=wordnet):\n",
    "    \"\"\"\n",
    "    Matches each word in reference to a word in hypothesis if any synonym\n",
    "    of a hypothesis word is the exact match to the reference word.\n",
    "\n",
    "    :param hypothesis: hypothesis string\n",
    "    :param reference: reference string\n",
    "    :param wordnet: a wordnet corpus reader object (default nltk.corpus.wordnet)\n",
    "    :type wordnet: WordNetCorpusReader\n",
    "    :return: list of mapped tuples\n",
    "    :rtype: list of tuples\n",
    "    \"\"\"\n",
    "    enum_hypothesis_list, enum_reference_list = _generate_enums(hypothesis, reference)\n",
    "    return _enum_wordnetsyn_match(\n",
    "        enum_hypothesis_list, enum_reference_list, wordnet=wordnet\n",
    "    )\n",
    "\n",
    "\n",
    "\n",
    "def _enum_allign_words(\n",
    "    enum_hypothesis_list, enum_reference_list, stemmer=PorterStemmer(), wordnet=wordnet\n",
    "):\n",
    "    \"\"\"\n",
    "    Aligns/matches words in the hypothesis to reference by sequentially\n",
    "    applying exact match, stemmed match and wordnet based synonym match.\n",
    "    in case there are multiple matches the match which has the least number\n",
    "    of crossing is chosen. Takes enumerated list as input instead of\n",
    "    string input\n",
    "\n",
    "    :param enum_hypothesis_list: enumerated hypothesis list\n",
    "    :param enum_reference_list: enumerated reference list\n",
    "    :param stemmer: nltk.stem.api.StemmerI object (default PorterStemmer())\n",
    "    :type stemmer: nltk.stem.api.StemmerI or any class that implements a stem method\n",
    "    :param wordnet: a wordnet corpus reader object (default nltk.corpus.wordnet)\n",
    "    :type wordnet: WordNetCorpusReader\n",
    "    :return: sorted list of matched tuples, unmatched hypothesis list,\n",
    "             unmatched reference list\n",
    "    :rtype: list of tuples, list of tuples, list of tuples\n",
    "    \"\"\"\n",
    "    exact_matches, enum_hypothesis_list, enum_reference_list = _match_enums(\n",
    "        enum_hypothesis_list, enum_reference_list\n",
    "    )\n",
    "\n",
    "    stem_matches, enum_hypothesis_list, enum_reference_list = _enum_stem_match(\n",
    "        enum_hypothesis_list, enum_reference_list, stemmer=stemmer\n",
    "    )\n",
    "\n",
    "    wns_matches, enum_hypothesis_list, enum_reference_list = _enum_wordnetsyn_match(\n",
    "        enum_hypothesis_list, enum_reference_list, wordnet=wordnet\n",
    "    )\n",
    "\n",
    "    return (\n",
    "        sorted(\n",
    "            exact_matches + stem_matches + wns_matches, key=lambda wordpair: wordpair[0]\n",
    "        ),\n",
    "        enum_hypothesis_list,\n",
    "        enum_reference_list,\n",
    "    )\n",
    "\n",
    "\n",
    "def allign_words(hypothesis, reference, stemmer=PorterStemmer(), wordnet=wordnet):\n",
    "    \"\"\"\n",
    "    Aligns/matches words in the hypothesis to reference by sequentially\n",
    "    applying exact match, stemmed match and wordnet based synonym match.\n",
    "    In case there are multiple matches the match which has the least number\n",
    "    of crossing is chosen.\n",
    "\n",
    "    :param hypothesis: hypothesis string\n",
    "    :param reference: reference string\n",
    "    :param stemmer: nltk.stem.api.StemmerI object (default PorterStemmer())\n",
    "    :type stemmer: nltk.stem.api.StemmerI or any class that implements a stem method\n",
    "    :param wordnet: a wordnet corpus reader object (default nltk.corpus.wordnet)\n",
    "    :type wordnet: WordNetCorpusReader\n",
    "    :return: sorted list of matched tuples, unmatched hypothesis list, unmatched reference list\n",
    "    :rtype: list of tuples, list of tuples, list of tuples\n",
    "    \"\"\"\n",
    "    enum_hypothesis_list, enum_reference_list = _generate_enums(hypothesis, reference)\n",
    "    return _enum_allign_words(\n",
    "        enum_hypothesis_list, enum_reference_list, stemmer=stemmer, wordnet=wordnet\n",
    "    )\n",
    "\n",
    "\n",
    "\n",
    "def _count_chunks(matches):\n",
    "    \"\"\"\n",
    "    Counts the fewest possible number of chunks such that matched unigrams\n",
    "    of each chunk are adjacent to each other. This is used to caluclate the\n",
    "    fragmentation part of the metric.\n",
    "\n",
    "    :param matches: list containing a mapping of matched words (output of allign_words)\n",
    "    :return: Number of chunks a sentence is divided into post allignment\n",
    "    :rtype: int\n",
    "    \"\"\"\n",
    "    i = 0\n",
    "    chunks = 1\n",
    "    while i < len(matches) - 1:\n",
    "        if (matches[i + 1][0] == matches[i][0] + 1) and (\n",
    "            matches[i + 1][1] == matches[i][1] + 1\n",
    "        ):\n",
    "            i += 1\n",
    "            continue\n",
    "        i += 1\n",
    "        chunks += 1\n",
    "    return chunks\n",
    "\n",
    "\n",
    "\n",
    "def penalty(    \n",
    "    reference,\n",
    "    hypothesis,\n",
    "    preprocess=str.lower,\n",
    "    stemmer=PorterStemmer(),\n",
    "    wordnet=wordnet):\n",
    "    \n",
    "    enum_hypothesis, enum_reference = _generate_enums(\n",
    "        hypothesis, reference, preprocess=preprocess\n",
    "    )\n",
    "    \n",
    "    translation_length = len(enum_hypothesis)\n",
    "    reference_length = len(enum_reference)\n",
    "    \n",
    "    matches, _, _ = _enum_allign_words(enum_hypothesis, enum_reference, stemmer=stemmer)\n",
    "    \n",
    "    matches_count = len(matches)\n",
    "    \n",
    "    try:\n",
    "        chunk_count = float(_count_chunks(matches))\n",
    "        frag_frac = chunk_count / matches_count\n",
    "        \n",
    "    except ZeroDivisionError: # No unigrams match\n",
    "        return 0\n",
    "    \n",
    "    return frag_frac\n"
   ]
  },
  {
   "cell_type": "code",
   "execution_count": 46,
   "metadata": {},
   "outputs": [],
   "source": [
    "# !pip install bert-embedding\n",
    "# If you want to run on GPU machine, please install `mxnet-cu92`.\n",
    "# pip install mxnet-cu92"
   ]
  },
  {
   "cell_type": "code",
   "execution_count": null,
   "metadata": {},
   "outputs": [],
   "source": []
  },
  {
   "cell_type": "code",
   "execution_count": 88,
   "metadata": {},
   "outputs": [],
   "source": [
    "def tokens_to_fracdict_contextual(tokens):\n",
    "    \n",
    "    return {token: 1/len(tokens) for token in range(len(tokens))}"
   ]
  },
  {
   "cell_type": "code",
   "execution_count": 47,
   "metadata": {},
   "outputs": [],
   "source": [
    "def tokens_to_fracdict(tokens):\n",
    "    cntdict = defaultdict(lambda : 0)\n",
    "    for token in tokens:\n",
    "        cntdict[token] += 1\n",
    "    totalcnt = sum(cntdict.values())\n",
    "    return {token: float(cnt)/totalcnt for token, cnt in cntdict.items()}"
   ]
  },
  {
   "cell_type": "code",
   "execution_count": 89,
   "metadata": {},
   "outputs": [],
   "source": [
    "def word_mover_distance_probspec_bert(first_sent, second_sent, lpFile=None):\n",
    "    \n",
    "#     first_sent_tokens  = bert_tokenizer.tokenize(first_sent)\n",
    "#     second_sent_tokens = bert_tokenizer.tokenize(second_sent)\n",
    "    \n",
    "#     first_sent_buckets = tokens_to_fracdict(first_sent_tokens)\n",
    "#     second_sent_buckets = tokens_to_fracdict(second_sent_tokens)\n",
    "    \n",
    "#     first_sent_embedding = model.embeddings.word_embeddings(torch.tensor(bert_tokenizer.convert_tokens_to_ids(list(first_sent_buckets.keys()))))\n",
    "#     second_sent_embedding = model.embeddings.word_embeddings(torch.tensor(bert_tokenizer.convert_tokens_to_ids(list(second_sent_buckets.keys()))))\n",
    "    \n",
    "#     all_embedding = torch.cat([first_sent_embedding, second_sent_embedding])\n",
    "    \n",
    "    first_sent_tokens, first_id, first_seg  = bert_tokenization(first_sent, bert_tokenizer)\n",
    "    second_sent_tokens, second_id, second_seg = bert_tokenization(second_sent, bert_tokenizer)\n",
    "    \n",
    "    first_sent_buckets = tokens_to_fracdict_contextual(first_sent_tokens)\n",
    "    second_sent_buckets = tokens_to_fracdict_contextual(second_sent_tokens)\n",
    "    \n",
    "    first_sent_embedding = bert_processing(first_id, first_seg, model)\n",
    "    second_sent_embedding = bert_processing(second_id, second_seg, model)\n",
    "    \n",
    "    all_embedding = torch.cat([first_sent_embedding, second_sent_embedding])\n",
    "    \n",
    "    assert len(first_sent_buckets) + len(second_sent_buckets) == all_embedding.size()[0]\n",
    "\n",
    "    # Updated buckets with labeled name\n",
    "    first_sent_buckets = {f\"x{idx}\": item[1] for idx, item in enumerate(first_sent_buckets.items())}\n",
    "    second_sent_buckets = {f\"y{idx}\": item[1] for idx, item in enumerate(second_sent_buckets.items())}\n",
    "\n",
    "    var_names = list(first_sent_buckets.keys()) + list(second_sent_buckets.keys())\n",
    "    \n",
    "    wordvecs = {token: embedding.detach().numpy() for token, embedding in zip(var_names, all_embedding)}\n",
    "    \n",
    "    T = pulp.LpVariable.dicts('T_matrix', list(product(var_names, var_names)), lowBound=0)\n",
    "\n",
    "    prob = pulp.LpProblem('WMD', sense=pulp.LpMinimize)\n",
    "    \n",
    "    prob += pulp.lpSum([T[token1, token2]*euclidean(wordvecs[token1], wordvecs[token2])\n",
    "                        for token1, token2 in product(var_names, var_names)])\n",
    "    \n",
    "    for token2 in second_sent_buckets:   #constrains\n",
    "        prob += pulp.lpSum([T[token1, token2] for token1 in first_sent_buckets])==second_sent_buckets[token2]\n",
    "        \n",
    "    for token1 in first_sent_buckets:    #constrains\n",
    "        prob += pulp.lpSum([T[token1, token2] for token2 in second_sent_buckets])==first_sent_buckets[token1]\n",
    "\n",
    "    if lpFile!=None:\n",
    "        prob.writeLP(lpFile)\n",
    "\n",
    "    prob.solve()\n",
    "\n",
    "    return prob"
   ]
  },
  {
   "cell_type": "code",
   "execution_count": 49,
   "metadata": {},
   "outputs": [],
   "source": [
    "def word_mover_distance(first_sent, second_sent, lpFile=None):\n",
    "    prob = word_mover_distance_probspec_bert(first_sent, second_sent, lpFile=lpFile)\n",
    "    return pulp.value(prob.objective)"
   ]
  },
  {
   "cell_type": "code",
   "execution_count": 50,
   "metadata": {},
   "outputs": [],
   "source": [
    "def fluency_based_wmd(wmd, ref, hypo, gamma=0.2):\n",
    "    frag_penalty = penalty(ref, hypo)\n",
    "#     print(frag_penalty)\n",
    "    return wmd - gamma *(0.5 - frag_penalty)"
   ]
  },
  {
   "cell_type": "code",
   "execution_count": null,
   "metadata": {},
   "outputs": [],
   "source": []
  },
  {
   "cell_type": "code",
   "execution_count": 68,
   "metadata": {},
   "outputs": [],
   "source": [
    "# hypo = word_tokenize(\"eine luftaufnahme mit braun werdenden bäumen , einem schlossartigen gebäude , das darin zu erkennen ist , und einer berglandschaft am horizont .\")\n",
    "# ref = word_tokenize(\"ein aerielles land , das ein foto von einer braunen wiese und einer kastenähnlichen struktur , die durch und eine berglandschaft im horizont fährt .\")\n",
    "# print(penalty(ref, hypo))\n",
    "\n",
    "# s1 = 'It is a guide to action which ensures that the military always obeys the commands of the party'\n",
    "# s2 = 'It is a guide to action that ensures that the military will forever heed Party commands'\n",
    "\n",
    "# s1='ein kleines mädchen , das an metallseilen hochklettert und einen langen rosafarbenen rock und ein schwarzes t-shirt trägt .'\n",
    "# s2='30115958512_13531ae2e8.jpg'\n",
    "# hypothesis1 = bert_tokenizer.tokenize(s1)\n",
    "# reference1 = bert_tokenizer.tokenize(s2)\n",
    "\n",
    "# first_sent_buckets = tokens_to_fracdict(hypothesis1)\n",
    "# print(sum(list(first_sent_buckets.values())))\n",
    "# print(list(product(hypothesis1, hypothesis1)))\n",
    "# output = word_mover_distance(hypothesis1, reference1, model.embeddings.word_embeddings)\n",
    "# print(output)\n",
    "# print(fluency_based_wmd(output, s2, s1))"
   ]
  },
  {
   "cell_type": "code",
   "execution_count": 63,
   "metadata": {},
   "outputs": [
    {
     "name": "stdout",
     "output_type": "stream",
     "text": [
      "35\n",
      "torch.Size([34, 768])\n"
     ]
    },
    {
     "name": "stderr",
     "output_type": "stream",
     "text": [
      "/Users/yurunsong/opt/anaconda3/lib/python3.7/site-packages/ipykernel_launcher.py:24: UserWarning: To copy construct from a tensor, it is recommended to use sourceTensor.clone().detach() or sourceTensor.clone().detach().requires_grad_(True), rather than torch.tensor(sourceTensor).\n"
     ]
    }
   ],
   "source": [
    "ref_tokens, ref_id, ref_seg = bert_tokenization(ref_de_sent[0], bert_tokenizer)\n",
    "output = bert_processing(ref_id, ref_seg, model)\n",
    "print(len(ref_tokens))\n",
    "print(output[1:,:].shape)\n",
    "\n",
    "wordvecs = {token: embedding.detach().numpy() for token, embedding in zip(ref_tokens, output[1:,:])}\n",
    "# print(wordvecs['ein'])"
   ]
  },
  {
   "cell_type": "code",
   "execution_count": null,
   "metadata": {},
   "outputs": [],
   "source": [
    "word_mover_distance(src_sent[0], ref_de_sent[0])"
   ]
  },
  {
   "cell_type": "code",
   "execution_count": 70,
   "metadata": {},
   "outputs": [],
   "source": [
    "# def processing_sent(sent, tokenizer, stop_words=None): # Nothing needs to be done except tokenize\n",
    "#     tokens = tokenizer.tokenize(sent)\n",
    "    \n",
    "#     if stop_words:\n",
    "#         tokens = [w for w in tokens if not w in stop_words] # stop words removal\n",
    "\n",
    "#     return tokens"
   ]
  },
  {
   "cell_type": "code",
   "execution_count": 52,
   "metadata": {},
   "outputs": [],
   "source": [
    "def compute_WMD_WMDo(ref_sent, mt_sent):\n",
    "    score = []\n",
    "    wmd = []\n",
    "    wmdo =[]\n",
    "\n",
    "    for i in range(len(ref_sent)):\n",
    "        ref = ref_sent[i]\n",
    "        \n",
    "        if i % 100 == 0:\n",
    "            print(i)\n",
    "            \n",
    "        for mt in mt_sent[i]:\n",
    "            if mt:\n",
    "                hypo = mt[0]\n",
    "                wmd_tmp = word_mover_distance(ref, hypo)\n",
    "                wmdo_tmp = fluency_based_wmd(wmd_tmp, ref, hypo)\n",
    "                score.append(mt[1])\n",
    "                wmd.append(wmd_tmp)\n",
    "                wmdo.append(wmdo_tmp)\n",
    "\n",
    "    return wmd, wmdo, score"
   ]
  },
  {
   "cell_type": "code",
   "execution_count": null,
   "metadata": {},
   "outputs": [],
   "source": []
  },
  {
   "cell_type": "code",
   "execution_count": 53,
   "metadata": {},
   "outputs": [],
   "source": [
    "def evaluation(wmd, wmdo, score):\n",
    "    pearson = stats.pearsonr(wmd, score)\n",
    "    pearson_o = stats.pearsonr(wmdo, score)\n",
    "    spearman = stats.spearmanr(wmd, score)\n",
    "    spearman_o = stats.spearmanr(wmdo, score)\n",
    "    print(\"Spearman Correlation:\", spearman, spearman_o)\n",
    "    print(\"Pearson Correlation:\", pearson, pearson_o)\n",
    "    return pearson, pearson_o, spearman, spearman_o"
   ]
  },
  {
   "cell_type": "code",
   "execution_count": null,
   "metadata": {},
   "outputs": [],
   "source": []
  },
  {
   "cell_type": "code",
   "execution_count": 230,
   "metadata": {},
   "outputs": [],
   "source": [
    "wmd, wmdo, score = compute_WMD_WMDo(ref_de_sent, mt_de)"
   ]
  },
  {
   "cell_type": "code",
   "execution_count": 231,
   "metadata": {},
   "outputs": [
    {
     "name": "stdout",
     "output_type": "stream",
     "text": [
      "German\n",
      "Average WMD: 69.82060101541869\n",
      "Average WMDo: 69.83274644933235\n",
      "Spearman Correlation: SpearmanrResult(correlation=-0.5278941164078803, pvalue=2.612801686441741e-249) SpearmanrResult(correlation=-0.5282769306333015, pvalue=9.83698361221888e-250)\n",
      "Pearson Correlation: (-0.49723739156495117, 4.875633745809798e-217) (-0.49782647030802085, 1.2546071005640493e-217)\n"
     ]
    }
   ],
   "source": [
    "print(\"German\")\n",
    "print(f\"Average WMD: {sum(wmd)/len(wmd)}\")\n",
    "print(f\"Average WMDo: {sum(wmdo)/len(wmdo)}\")\n",
    "_,_,_,_ = evaluation(wmd,wmdo,score)"
   ]
  },
  {
   "cell_type": "code",
   "execution_count": null,
   "metadata": {},
   "outputs": [],
   "source": [
    "German\n",
    "Average WMD: 14.753766380597177\n",
    "Average WMDo: 14.765911814511023\n",
    "Spearman Correlation: SpearmanrResult(correlation=-0.5408051231338127, pvalue=6.357095597124554e-264) SpearmanrResult(correlation=-0.5415326261357368, pvalue=9.135718745372739e-265)\n",
    "Pearson Correlation: (-0.510550953962252, 1.196828835525081e-230) (-0.5128446747092898, 4.695107306853758e-233)\n"
   ]
  },
  {
   "cell_type": "code",
   "execution_count": 283,
   "metadata": {},
   "outputs": [],
   "source": [
    "wmd, wmdo, score = compute_WMD_WMDo(ref_fr_sent, mt_fr)"
   ]
  },
  {
   "cell_type": "code",
   "execution_count": 284,
   "metadata": {},
   "outputs": [
    {
     "name": "stdout",
     "output_type": "stream",
     "text": [
      "French\n",
      "Average WMD: 0.7319957530829252\n",
      "Average WMDo: 0.7120559700721092\n",
      "Spearman Correlation: SpearmanrResult(correlation=-0.5062751155749577, pvalue=3.763877843459969e-164) SpearmanrResult(correlation=-0.5040075033227038, pvalue=1.816938744204804e-162)\n",
      "Pearson Correlation: (-0.4473760002698459, 2.760555486290685e-124) (-0.4744602912350891, 1.191233536508193e-141)\n"
     ]
    }
   ],
   "source": [
    "print(\"French\")\n",
    "print(f\"Average WMD: {sum(wmd)/len(wmd)}\")\n",
    "print(f\"Average WMDo: {sum(wmdo)/len(wmdo)}\")\n",
    "_,_,_,_ = evaluation(wmd, wmdo, score)"
   ]
  },
  {
   "cell_type": "code",
   "execution_count": null,
   "metadata": {},
   "outputs": [],
   "source": []
  },
  {
   "cell_type": "code",
   "execution_count": null,
   "metadata": {},
   "outputs": [],
   "source": []
  },
  {
   "cell_type": "code",
   "execution_count": 215,
   "metadata": {},
   "outputs": [],
   "source": [
    "wmd, wmdo, score = compute_WMD_WMDo(src_sent, mt_de)"
   ]
  },
  {
   "cell_type": "code",
   "execution_count": 216,
   "metadata": {},
   "outputs": [
    {
     "name": "stdout",
     "output_type": "stream",
     "text": [
      "German\n",
      "Average WMD: 18.4382787309031\n",
      "Average WMDo: 18.458505960141462\n",
      "Spearman Correlation: SpearmanrResult(correlation=-0.3877016178408453, pvalue=2.4103141446547815e-125) SpearmanrResult(correlation=-0.3911701079270888, pvalue=9.341434856987254e-128)\n",
      "Pearson Correlation: (-0.364916617965492, 3.281589659711399e-110) (-0.36689664795980625, 1.7732519688719853e-111)\n"
     ]
    }
   ],
   "source": [
    "print(\"German\")\n",
    "print(f\"Average WMD: {sum(wmd)/len(wmd)}\")\n",
    "print(f\"Average WMDo: {sum(wmdo)/len(wmdo)}\")\n",
    "_,_,_,_ = evaluation(wmd, wmdo, score)"
   ]
  },
  {
   "cell_type": "code",
   "execution_count": null,
   "metadata": {},
   "outputs": [],
   "source": [
    "German\n",
    "Average WMD: 18.09473854506236\n",
    "Average WMDo: 18.11496577430075\n",
    "Spearman Correlation: SpearmanrResult(correlation=-0.3888220517112738, pvalue=4.038384914655043e-126) SpearmanrResult(correlation=-0.392272892331188, pvalue=1.5759215445413317e-128)\n",
    "Pearson Correlation: (-0.3663276677750607, 4.110186786086501e-111) (-0.3683403659547836, 2.0848261680513684e-112)"
   ]
  },
  {
   "cell_type": "code",
   "execution_count": 113,
   "metadata": {},
   "outputs": [
    {
     "name": "stdout",
     "output_type": "stream",
     "text": [
      "French\n",
      "Average WMD: 17.53394350971217\n",
      "Average WMDo: 17.554236278671606\n",
      "Spearman Correlation: SpearmanrResult(correlation=-0.4020773951383244, pvalue=1.507033645902963e-98) SpearmanrResult(correlation=-0.401837321865042, pvalue=2.0148546831306177e-98)\n",
      "Pearson Correlation: (-0.3328195942333609, 3.070678519709238e-66) (-0.3332514592822259, 2.0406688113651785e-66)\n"
     ]
    }
   ],
   "source": [
    "wmd, wmdo, score = compute_WMD_WMDo(src_sent, mt_fr)\n",
    "print(\"French\")\n",
    "print(f\"Average WMD: {sum(wmd)/len(wmd)}\")\n",
    "print(f\"Average WMDo: {sum(wmdo)/len(wmdo)}\")\n",
    "_,_,_,_ = evaluation(wmd, wmdo, score)"
   ]
  },
  {
   "cell_type": "code",
   "execution_count": null,
   "metadata": {},
   "outputs": [],
   "source": [
    "French\n",
    "Average WMD: 16.756025627736054\n",
    "Average WMDo: 16.776318396695512\n",
    "Spearman Correlation: SpearmanrResult(correlation=-0.4053943918063674, pvalue=2.6600260870893543e-100) SpearmanrResult(correlation=-0.40493190729140627, pvalue=4.68312010089249e-100)\n",
    "Pearson Correlation: (-0.33575896893394214, 1.8781364785621477e-67) (-0.336184560252449, 1.2500334156210449e-67)\n"
   ]
  },
  {
   "cell_type": "code",
   "execution_count": null,
   "metadata": {},
   "outputs": [],
   "source": [
    "German\n",
    "Average WMD: 0.8017151844060595\n",
    "Average WMDo: 0.8138606183198965\n",
    "Spearman Correlation: SpearmanrResult(correlation=-0.510027610018138, pvalue=4.21218212891956e-230) SpearmanrResult(correlation=-0.5219619561321359, pvalue=8.359442710590678e-243)\n",
    "Pearson Correlation: (-0.5097357138311422, 8.489667305520433e-230) (-0.5263318452409811, 1.3893750874145238e-247)\n",
    "\n",
    "German\n",
    "Average WMD: 14.367619206327053\n",
    "Average WMDo: 14.37976464024086\n",
    "Spearman Correlation: SpearmanrResult(correlation=-0.5346587049562512, pvalue=6.91048714368436e-257) SpearmanrResult(correlation=-0.5356639914422371, pvalue=4.996019991229222e-258)\n",
    "Pearson Correlation: (-0.5069348041812386, 6.833029708905972e-227) (-0.509505332886907, 1.4754286321864593e-229)\n",
    "\n",
    "German\n",
    "Average WMD: 8.694474627081824\n",
    "Average WMDo: 8.706620060995649\n",
    "Spearman Correlation: SpearmanrResult(correlation=-0.5260365544473777, pvalue=2.937572648888105e-247) SpearmanrResult(correlation=-0.5275756933309976, pvalue=5.88269414423705e-249)\n",
    "Pearson Correlation: (-0.5076935027563036, 1.122537251992892e-227) (-0.5112707564139629, 2.1127845225063138e-231)\n"
   ]
  },
  {
   "cell_type": "code",
   "execution_count": null,
   "metadata": {},
   "outputs": [],
   "source": [
    "French\n",
    "Average WMD: 0.6042960387747216\n",
    "Average WMDo: 0.5843552624270132\n",
    "Spearman Correlation: SpearmanrResult(correlation=-0.5088781037811415, pvalue=4.238102393698617e-166) SpearmanrResult(correlation=-0.5095406311221526, pvalue=1.3444148923818223e-166)\n",
    "Pearson Correlation: (-0.4513739384178891, 9.4483659745375e-127) (-0.47538274489884846, 2.8612199431667316e-142)\n",
    "\n",
    "French\n",
    "Average WMD: 12.275622826948323\n",
    "Average WMDo: 12.25568304393746\n",
    "Spearman Correlation: SpearmanrResult(correlation=-0.49264666562512005, pvalue=3.2071764012749155e-154) SpearmanrResult(correlation=-0.4930769665866644, pvalue=1.5827540043178295e-154)\n",
    "Pearson Correlation: (-0.4295813360647007, 1.055442628944799e-113) (-0.43196050189980867, 4.414998254116758e-115)\n",
    "\n",
    "French\n",
    "Average WMD: 7.319957527622561\n",
    "Average WMDo: 7.300017744611744\n",
    "Spearman Correlation: SpearmanrResult(correlation=-0.5062751155749577, pvalue=3.763877843459969e-164) SpearmanrResult(correlation=-0.5064425750293479, pvalue=2.823526062812762e-164)\n",
    "Pearson Correlation: (-0.44737600006571154, 2.7605562811962084e-124) (-0.4507366982577241, 2.3473130052334892e-126)\n",
    "    \n",
    "French\n",
    "Average WMD: 0.7319957530829252\n",
    "Average WMDo: 0.7120559700721092\n",
    "Spearman Correlation: SpearmanrResult(correlation=-0.5062751155749577, pvalue=3.763877843459969e-164) SpearmanrResult(correlation=-0.5040075033227038, pvalue=1.816938744204804e-162)\n",
    "Pearson Correlation: (-0.4473760002698459, 2.760555486290685e-124) (-0.4744602912350891, 1.191233536508193e-141)\n",
    "    \n"
   ]
  },
  {
   "cell_type": "code",
   "execution_count": 50,
   "metadata": {},
   "outputs": [],
   "source": [
    "norm_score = np.array(score)/np.sqrt(np.sum(np.array(score)**2))\n",
    "norm_wmd = np.array(wmd)/ np.sqrt(np.sum(np.array(wmd)**2))\n",
    "norm_wmdo = np.array(wmdo)/np.sqrt(np.sum(np.array(wmdo)**2))\n",
    "\n",
    "# wmd = np.array(wmd) - (sum(wmd)/len(wmd))"
   ]
  },
  {
   "cell_type": "code",
   "execution_count": 282,
   "metadata": {},
   "outputs": [
    {
     "data": {
      "image/png": "[encoded data removed]",
      "text/plain": [
       "<Figure size 432x288 with 1 Axes>"
      ]
     },
     "metadata": {
      "needs_background": "light"
     },
     "output_type": "display_data"
    }
   ],
   "source": [
    "# plt.scatter(np.array(score)[:200],wmd[:200])\n",
    "plt.scatter(norm_score,norm_wmd)\n",
    "plt.scatter(norm_score,norm_wmdo)\n",
    "# plt.xlim([-3,3])\n",
    "# plt.ylim([-1.5,1.5])\n",
    "plt.xlabel(\"human score\")\n",
    "plt.ylabel(\"Normalized WMD score\")\n",
    "plt.legend([\"wmd\", \"wmdo\"])\n",
    "plt.grid()"
   ]
  },
  {
   "cell_type": "code",
   "execution_count": null,
   "metadata": {},
   "outputs": [],
   "source": []
  },
  {
   "cell_type": "code",
   "execution_count": null,
   "metadata": {},
   "outputs": [],
   "source": []
  },
  {
   "cell_type": "code",
   "execution_count": 39,
   "metadata": {},
   "outputs": [],
   "source": [
    "# def word_mover_distance_probspec_1(first_sent_tokens, second_sent_tokens, wvmodel, lpFile=None):\n",
    "#     all_tokens = list(set(first_sent_tokens+second_sent_tokens))\n",
    "#     all_embedding = wvmodel(torch.tensor(bert_tokenizer.convert_tokens_to_ids(all_tokens))).detach().numpy()\n",
    "    \n",
    "#     wordvecs = {token: embedding for token, embedding in zip(all_tokens, all_embedding)}\n",
    "\n",
    "#     first_sent_buckets = tokens_to_fracdict(first_sent_tokens)\n",
    "#     second_sent_buckets = tokens_to_fracdict(second_sent_tokens)\n",
    "\n",
    "#     T = pulp.LpVariable.dicts('T_matrix', list(product(all_tokens, all_tokens)), lowBound=0)\n",
    "\n",
    "#     prob = pulp.LpProblem('WMD', sense=pulp.LpMinimize)\n",
    "#     prob += pulp.lpSum([T[token1, token2]*euclidean(wordvecs[token1], wordvecs[token2])\n",
    "#                         for token1, token2 in product(all_tokens, all_tokens)])\n",
    "#     for token2 in second_sent_buckets:\n",
    "#         prob += pulp.lpSum([T[token1, token2] for token1 in first_sent_buckets])==second_sent_buckets[token2]\n",
    "#     for token1 in first_sent_buckets:\n",
    "#         prob += pulp.lpSum([T[token1, token2] for token2 in second_sent_buckets])==first_sent_buckets[token1]\n",
    "\n",
    "#     if lpFile!=None:\n",
    "#         prob.writeLP(lpFile)\n",
    "\n",
    "#     prob.solve()\n",
    "\n",
    "#     return prob"
   ]
  },
  {
   "cell_type": "code",
   "execution_count": 40,
   "metadata": {},
   "outputs": [],
   "source": [
    "# s1=\"une photo aérienne d'un paysage d'herbe brunissante avec une sorte de château culminant , et un paysage montagneux à l'horizon .\"\n",
    "# s2=\"un paysage de signalisation, regarde de la prairie et une structure ressemblant à une structure à l'intérieur et un paysage de montagne à l'horizon.\"\n",
    "# hypothesis1 = bert_tokenizer.tokenize(s1)\n",
    "# reference1 = bert_tokenizer.tokenize(s2)\n",
    "# print(hypothesis1)\n",
    "# print(reference1)\n",
    "# prob1 = word_mover_distance_probspec(hypothesis1, reference1, model.embeddings.word_embeddings)\n",
    "# print(pulp.value(prob1.objective))\n",
    "\n",
    "# prob2 = word_mover_distance_probspec_1(hypothesis1, reference1, model.embeddings.word_embeddings)\n",
    "# print(pulp.value(prob2.objective))\n"
   ]
  },
  {
   "cell_type": "code",
   "execution_count": null,
   "metadata": {},
   "outputs": [],
   "source": [
    "# def gen_mean(vals, p):\n",
    "#     p = float(p)\n",
    "#     return np.power(np.mean(np.power(np.array(vals, dtype=np.float32),p),axis=0),1 / p)   \n",
    "\n",
    "# operations = dict([\n",
    "#     ('mean', (lambda word_embeddings: [np.mean(word_embeddings, axis=0)], lambda embeddings_size: embeddings_size)),\n",
    "#     ('max', (lambda word_embeddings: [np.max(word_embeddings, axis=0)], lambda embeddings_size: embeddings_size)),\n",
    "#     ('min', (lambda word_embeddings: [np.min(word_embeddings, axis=0)], lambda embeddings_size: embeddings_size)),\n",
    "#     ('p_mean_2', (lambda word_embeddings: [gen_mean(word_embeddings, p=2.0).real], lambda embeddings_size: embeddings_size)),\n",
    "#     ('p_mean_3', (lambda word_embeddings: [gen_mean(word_embeddings, p=3.0).real], lambda embeddings_size: embeddings_size)),\n",
    "# ])\n",
    "\n",
    "\n",
    "# def get_sentence_embedding(sentence, embeddings, chosen_operations):\n",
    "#     word_embeddings = []\n",
    "#     for tok in sentence:\n",
    "#         vec = embeddings.vectors.get(tok)\n",
    "#         if vec is not None:\n",
    "#             word_embeddings.append(vec)\n",
    "\n",
    "#     if not word_embeddings:\n",
    "#         print('No word embeddings for sentence:\\n{}'.format(sentence))\n",
    "#         size = 0\n",
    "#         for o in chosen_operations:\n",
    "#             size += operations[o][1](embeddings.embeddings_dimensionality)\n",
    "#         sentence_embedding = np.zeros(size)\n",
    "#     else:\n",
    "#         concat_embs = []\n",
    "#         for o in chosen_operations:\n",
    "#             concat_embs += operations[o][0](word_embeddings)\n",
    "#         sentence_embedding = np.concatenate(\n",
    "#             concat_embs,\n",
    "#             axis=0\n",
    "#         )\n",
    "\n",
    "#     return sentence_embedding    "
   ]
  },
  {
   "cell_type": "code",
   "execution_count": null,
   "metadata": {},
   "outputs": [],
   "source": []
  }
 ],
 "metadata": {
  "kernelspec": {
   "display_name": "Python 3",
   "language": "python",
   "name": "python3"
  },
  "language_info": {
   "codemirror_mode": {
    "name": "ipython",
    "version": 3
   },
   "file_extension": ".py",
   "mimetype": "text/x-python",
   "name": "python",
   "nbconvert_exporter": "python",
   "pygments_lexer": "ipython3",
   "version": "3.7.4"
  }
 },
 "nbformat": 4,
 "nbformat_minor": 2
}
